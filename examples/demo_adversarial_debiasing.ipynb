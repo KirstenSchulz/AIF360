{
  "nbformat": 4,
  "nbformat_minor": 0,
  "metadata": {
    "kernelspec": {
      "name": "python3",
      "display_name": "Python 3"
    },
    "colab": {
      "name": "demo_adversarial_debiasing.ipynb",
      "provenance": []
    },
    "accelerator": "GPU"
  },
  "cells": [
    {
      "cell_type": "markdown",
      "metadata": {
        "id": "RgfAuRto0ljY",
        "colab_type": "text"
      },
      "source": [
        "#### This notebook demonstrates the use of adversarial debiasing algorithm to learn a fair classifier.\n",
        "Adversarial debiasing [1] is an in-processing technique that learns a classifier to maximize prediction accuracy and simultaneously reduce an adversary's ability to determine the protected attribute from the predictions. This approach leads to a fair classifier as the predictions cannot carry any group discrimination information that the adversary can exploit. We will see how to use this algorithm for learning models with and without fairness constraints and apply them on the Adult dataset."
      ]
    },
    {
      "cell_type": "code",
      "metadata": {
        "id": "rK73Aq9g3l2s",
        "colab_type": "code",
        "colab": {
          "base_uri": "https://localhost:8080/",
          "height": 64
        },
        "outputId": "5a6b50ec-37d9-434b-aec2-29bd6b0e0eea"
      },
      "source": [
        "!pip uninstall aif360[all] -y\n",
        "!ls /usr/local/lib/python3.6/dist-packages/aif*"
      ],
      "execution_count": 1,
      "outputs": [
        {
          "output_type": "stream",
          "text": [
            "\u001b[33mWARNING: Skipping aif360 as it is not installed.\u001b[0m\n",
            "ls: cannot access '/usr/local/lib/python3.6/dist-packages/aif*': No such file or directory\n"
          ],
          "name": "stdout"
        }
      ]
    },
    {
      "cell_type": "code",
      "metadata": {
        "id": "XCT-kdM30sI1",
        "colab_type": "code",
        "colab": {
          "base_uri": "https://localhost:8080/",
          "height": 1000
        },
        "outputId": "6fbfaa01-9de8-47f8-8e2b-77ea66b784eb"
      },
      "source": [
        "!pip install 'aif360[all]'"
      ],
      "execution_count": 1,
      "outputs": [
        {
          "output_type": "stream",
          "text": [
            "Requirement already satisfied: aif360[all] in /usr/local/lib/python3.6/dist-packages (0.3.0)\n",
            "Requirement already satisfied: pandas>=0.24.0 in /usr/local/lib/python3.6/dist-packages (from aif360[all]) (1.0.4)\n",
            "Requirement already satisfied: matplotlib in /usr/local/lib/python3.6/dist-packages (from aif360[all]) (3.2.1)\n",
            "Requirement already satisfied: scipy>=1.2.0 in /usr/local/lib/python3.6/dist-packages (from aif360[all]) (1.4.1)\n",
            "Requirement already satisfied: numpy>=1.16 in /usr/local/lib/python3.6/dist-packages (from aif360[all]) (1.18.5)\n",
            "Requirement already satisfied: scikit-learn>=0.21 in /usr/local/lib/python3.6/dist-packages (from aif360[all]) (0.22.2.post1)\n",
            "Requirement already satisfied: sphinx-rtd-theme; extra == \"all\" in /usr/local/lib/python3.6/dist-packages (from aif360[all]) (0.4.3)\n",
            "Requirement already satisfied: jupyter; extra == \"all\" in /usr/local/lib/python3.6/dist-packages (from aif360[all]) (1.0.0)\n",
            "Requirement already satisfied: lime; extra == \"all\" in /usr/local/lib/python3.6/dist-packages (from aif360[all]) (0.2.0.0)\n",
            "Requirement already satisfied: tqdm; extra == \"all\" in /usr/local/lib/python3.6/dist-packages (from aif360[all]) (4.41.1)\n",
            "Requirement already satisfied: tensorflow<2,>=1.13.1; extra == \"all\" in /usr/local/lib/python3.6/dist-packages (from aif360[all]) (1.15.3)\n",
            "Requirement already satisfied: cvxpy>=1.0; extra == \"all\" in /usr/local/lib/python3.6/dist-packages (from aif360[all]) (1.0.31)\n",
            "Requirement already satisfied: pytest>=3.5; extra == \"all\" in /usr/local/lib/python3.6/dist-packages (from aif360[all]) (3.6.4)\n",
            "Requirement already satisfied: adversarial-robustness-toolbox>=1.0.0; extra == \"all\" in /usr/local/lib/python3.6/dist-packages (from aif360[all]) (1.2.0)\n",
            "Requirement already satisfied: BlackBoxAuditing; extra == \"all\" in /usr/local/lib/python3.6/dist-packages (from aif360[all]) (0.1.54)\n",
            "Requirement already satisfied: numba>=0.42.0; extra == \"all\" in /usr/local/lib/python3.6/dist-packages (from aif360[all]) (0.48.0)\n",
            "Requirement already satisfied: sphinx; extra == \"all\" in /usr/local/lib/python3.6/dist-packages (from aif360[all]) (1.8.5)\n",
            "Requirement already satisfied: python-dateutil>=2.6.1 in /usr/local/lib/python3.6/dist-packages (from pandas>=0.24.0->aif360[all]) (2.8.1)\n",
            "Requirement already satisfied: pytz>=2017.2 in /usr/local/lib/python3.6/dist-packages (from pandas>=0.24.0->aif360[all]) (2018.9)\n",
            "Requirement already satisfied: cycler>=0.10 in /usr/local/lib/python3.6/dist-packages (from matplotlib->aif360[all]) (0.10.0)\n",
            "Requirement already satisfied: pyparsing!=2.0.4,!=2.1.2,!=2.1.6,>=2.0.1 in /usr/local/lib/python3.6/dist-packages (from matplotlib->aif360[all]) (2.4.7)\n",
            "Requirement already satisfied: kiwisolver>=1.0.1 in /usr/local/lib/python3.6/dist-packages (from matplotlib->aif360[all]) (1.2.0)\n",
            "Requirement already satisfied: joblib>=0.11 in /usr/local/lib/python3.6/dist-packages (from scikit-learn>=0.21->aif360[all]) (0.15.1)\n",
            "Requirement already satisfied: nbconvert in /usr/local/lib/python3.6/dist-packages (from jupyter; extra == \"all\"->aif360[all]) (5.6.1)\n",
            "Requirement already satisfied: ipykernel in /usr/local/lib/python3.6/dist-packages (from jupyter; extra == \"all\"->aif360[all]) (4.10.1)\n",
            "Requirement already satisfied: qtconsole in /usr/local/lib/python3.6/dist-packages (from jupyter; extra == \"all\"->aif360[all]) (4.7.4)\n",
            "Requirement already satisfied: jupyter-console in /usr/local/lib/python3.6/dist-packages (from jupyter; extra == \"all\"->aif360[all]) (5.2.0)\n",
            "Requirement already satisfied: ipywidgets in /usr/local/lib/python3.6/dist-packages (from jupyter; extra == \"all\"->aif360[all]) (7.5.1)\n",
            "Requirement already satisfied: notebook in /usr/local/lib/python3.6/dist-packages (from jupyter; extra == \"all\"->aif360[all]) (5.2.2)\n",
            "Requirement already satisfied: scikit-image>=0.12 in /usr/local/lib/python3.6/dist-packages (from lime; extra == \"all\"->aif360[all]) (0.16.2)\n",
            "Requirement already satisfied: pillow==5.4.1 in /usr/local/lib/python3.6/dist-packages (from lime; extra == \"all\"->aif360[all]) (5.4.1)\n",
            "Requirement already satisfied: google-pasta>=0.1.6 in /usr/local/lib/python3.6/dist-packages (from tensorflow<2,>=1.13.1; extra == \"all\"->aif360[all]) (0.2.0)\n",
            "Requirement already satisfied: astor>=0.6.0 in /usr/local/lib/python3.6/dist-packages (from tensorflow<2,>=1.13.1; extra == \"all\"->aif360[all]) (0.8.1)\n",
            "Requirement already satisfied: tensorboard<1.16.0,>=1.15.0 in /usr/local/lib/python3.6/dist-packages (from tensorflow<2,>=1.13.1; extra == \"all\"->aif360[all]) (1.15.0)\n",
            "Requirement already satisfied: termcolor>=1.1.0 in /usr/local/lib/python3.6/dist-packages (from tensorflow<2,>=1.13.1; extra == \"all\"->aif360[all]) (1.1.0)\n",
            "Requirement already satisfied: tensorflow-estimator==1.15.1 in /usr/local/lib/python3.6/dist-packages (from tensorflow<2,>=1.13.1; extra == \"all\"->aif360[all]) (1.15.1)\n",
            "Requirement already satisfied: protobuf>=3.6.1 in /usr/local/lib/python3.6/dist-packages (from tensorflow<2,>=1.13.1; extra == \"all\"->aif360[all]) (3.10.0)\n",
            "Requirement already satisfied: wrapt>=1.11.1 in /usr/local/lib/python3.6/dist-packages (from tensorflow<2,>=1.13.1; extra == \"all\"->aif360[all]) (1.12.1)\n",
            "Requirement already satisfied: six>=1.10.0 in /usr/local/lib/python3.6/dist-packages (from tensorflow<2,>=1.13.1; extra == \"all\"->aif360[all]) (1.12.0)\n",
            "Requirement already satisfied: gast==0.2.2 in /usr/local/lib/python3.6/dist-packages (from tensorflow<2,>=1.13.1; extra == \"all\"->aif360[all]) (0.2.2)\n",
            "Requirement already satisfied: absl-py>=0.7.0 in /usr/local/lib/python3.6/dist-packages (from tensorflow<2,>=1.13.1; extra == \"all\"->aif360[all]) (0.9.0)\n",
            "Requirement already satisfied: grpcio>=1.8.6 in /usr/local/lib/python3.6/dist-packages (from tensorflow<2,>=1.13.1; extra == \"all\"->aif360[all]) (1.29.0)\n",
            "Requirement already satisfied: keras-applications>=1.0.8 in /usr/local/lib/python3.6/dist-packages (from tensorflow<2,>=1.13.1; extra == \"all\"->aif360[all]) (1.0.8)\n",
            "Requirement already satisfied: keras-preprocessing>=1.0.5 in /usr/local/lib/python3.6/dist-packages (from tensorflow<2,>=1.13.1; extra == \"all\"->aif360[all]) (1.1.2)\n",
            "Requirement already satisfied: wheel>=0.26; python_version >= \"3\" in /usr/local/lib/python3.6/dist-packages (from tensorflow<2,>=1.13.1; extra == \"all\"->aif360[all]) (0.34.2)\n",
            "Requirement already satisfied: opt-einsum>=2.3.2 in /usr/local/lib/python3.6/dist-packages (from tensorflow<2,>=1.13.1; extra == \"all\"->aif360[all]) (3.2.1)\n",
            "Requirement already satisfied: multiprocess in /usr/local/lib/python3.6/dist-packages (from cvxpy>=1.0; extra == \"all\"->aif360[all]) (0.70.9)\n",
            "Requirement already satisfied: osqp>=0.4.1 in /usr/local/lib/python3.6/dist-packages (from cvxpy>=1.0; extra == \"all\"->aif360[all]) (0.6.1)\n",
            "Requirement already satisfied: scs>=1.1.3 in /usr/local/lib/python3.6/dist-packages (from cvxpy>=1.0; extra == \"all\"->aif360[all]) (2.1.2)\n",
            "Requirement already satisfied: ecos>=2 in /usr/local/lib/python3.6/dist-packages (from cvxpy>=1.0; extra == \"all\"->aif360[all]) (2.0.7.post1)\n",
            "Requirement already satisfied: more-itertools>=4.0.0 in /usr/local/lib/python3.6/dist-packages (from pytest>=3.5; extra == \"all\"->aif360[all]) (8.3.0)\n",
            "Requirement already satisfied: attrs>=17.4.0 in /usr/local/lib/python3.6/dist-packages (from pytest>=3.5; extra == \"all\"->aif360[all]) (19.3.0)\n",
            "Requirement already satisfied: setuptools in /usr/local/lib/python3.6/dist-packages (from pytest>=3.5; extra == \"all\"->aif360[all]) (47.1.1)\n",
            "Requirement already satisfied: py>=1.5.0 in /usr/local/lib/python3.6/dist-packages (from pytest>=3.5; extra == \"all\"->aif360[all]) (1.8.1)\n",
            "Requirement already satisfied: atomicwrites>=1.0 in /usr/local/lib/python3.6/dist-packages (from pytest>=3.5; extra == \"all\"->aif360[all]) (1.4.0)\n",
            "Requirement already satisfied: pluggy<0.8,>=0.5 in /usr/local/lib/python3.6/dist-packages (from pytest>=3.5; extra == \"all\"->aif360[all]) (0.7.1)\n",
            "Requirement already satisfied: networkx in /usr/local/lib/python3.6/dist-packages (from BlackBoxAuditing; extra == \"all\"->aif360[all]) (2.4)\n",
            "Requirement already satisfied: llvmlite<0.32.0,>=0.31.0dev0 in /usr/local/lib/python3.6/dist-packages (from numba>=0.42.0; extra == \"all\"->aif360[all]) (0.31.0)\n",
            "Requirement already satisfied: docutils>=0.11 in /usr/local/lib/python3.6/dist-packages (from sphinx; extra == \"all\"->aif360[all]) (0.15.2)\n",
            "Requirement already satisfied: babel!=2.0,>=1.3 in /usr/local/lib/python3.6/dist-packages (from sphinx; extra == \"all\"->aif360[all]) (2.8.0)\n",
            "Requirement already satisfied: imagesize in /usr/local/lib/python3.6/dist-packages (from sphinx; extra == \"all\"->aif360[all]) (1.2.0)\n",
            "Requirement already satisfied: packaging in /usr/local/lib/python3.6/dist-packages (from sphinx; extra == \"all\"->aif360[all]) (20.4)\n",
            "Requirement already satisfied: requests>=2.0.0 in /usr/local/lib/python3.6/dist-packages (from sphinx; extra == \"all\"->aif360[all]) (2.23.0)\n",
            "Requirement already satisfied: snowballstemmer>=1.1 in /usr/local/lib/python3.6/dist-packages (from sphinx; extra == \"all\"->aif360[all]) (2.0.0)\n",
            "Requirement already satisfied: Jinja2>=2.3 in /usr/local/lib/python3.6/dist-packages (from sphinx; extra == \"all\"->aif360[all]) (2.11.2)\n",
            "Requirement already satisfied: Pygments>=2.0 in /usr/local/lib/python3.6/dist-packages (from sphinx; extra == \"all\"->aif360[all]) (2.1.3)\n",
            "Requirement already satisfied: alabaster<0.8,>=0.7 in /usr/local/lib/python3.6/dist-packages (from sphinx; extra == \"all\"->aif360[all]) (0.7.12)\n",
            "Requirement already satisfied: sphinxcontrib-websupport in /usr/local/lib/python3.6/dist-packages (from sphinx; extra == \"all\"->aif360[all]) (1.2.2)\n",
            "Requirement already satisfied: traitlets>=4.2 in /usr/local/lib/python3.6/dist-packages (from nbconvert->jupyter; extra == \"all\"->aif360[all]) (4.3.3)\n",
            "Requirement already satisfied: mistune<2,>=0.8.1 in /usr/local/lib/python3.6/dist-packages (from nbconvert->jupyter; extra == \"all\"->aif360[all]) (0.8.4)\n",
            "Requirement already satisfied: testpath in /usr/local/lib/python3.6/dist-packages (from nbconvert->jupyter; extra == \"all\"->aif360[all]) (0.4.4)\n",
            "Requirement already satisfied: bleach in /usr/local/lib/python3.6/dist-packages (from nbconvert->jupyter; extra == \"all\"->aif360[all]) (3.1.5)\n",
            "Requirement already satisfied: defusedxml in /usr/local/lib/python3.6/dist-packages (from nbconvert->jupyter; extra == \"all\"->aif360[all]) (0.6.0)\n",
            "Requirement already satisfied: jupyter-core in /usr/local/lib/python3.6/dist-packages (from nbconvert->jupyter; extra == \"all\"->aif360[all]) (4.6.3)\n",
            "Requirement already satisfied: nbformat>=4.4 in /usr/local/lib/python3.6/dist-packages (from nbconvert->jupyter; extra == \"all\"->aif360[all]) (5.0.6)\n",
            "Requirement already satisfied: pandocfilters>=1.4.1 in /usr/local/lib/python3.6/dist-packages (from nbconvert->jupyter; extra == \"all\"->aif360[all]) (1.4.2)\n",
            "Requirement already satisfied: entrypoints>=0.2.2 in /usr/local/lib/python3.6/dist-packages (from nbconvert->jupyter; extra == \"all\"->aif360[all]) (0.3)\n",
            "Requirement already satisfied: jupyter-client in /usr/local/lib/python3.6/dist-packages (from ipykernel->jupyter; extra == \"all\"->aif360[all]) (5.3.4)\n",
            "Requirement already satisfied: ipython>=4.0.0 in /usr/local/lib/python3.6/dist-packages (from ipykernel->jupyter; extra == \"all\"->aif360[all]) (5.5.0)\n",
            "Requirement already satisfied: tornado>=4.0 in /usr/local/lib/python3.6/dist-packages (from ipykernel->jupyter; extra == \"all\"->aif360[all]) (4.5.3)\n",
            "Requirement already satisfied: pyzmq>=17.1 in /usr/local/lib/python3.6/dist-packages (from qtconsole->jupyter; extra == \"all\"->aif360[all]) (19.0.1)\n",
            "Requirement already satisfied: ipython-genutils in /usr/local/lib/python3.6/dist-packages (from qtconsole->jupyter; extra == \"all\"->aif360[all]) (0.2.0)\n",
            "Requirement already satisfied: qtpy in /usr/local/lib/python3.6/dist-packages (from qtconsole->jupyter; extra == \"all\"->aif360[all]) (1.9.0)\n",
            "Requirement already satisfied: prompt-toolkit<2.0.0,>=1.0.0 in /usr/local/lib/python3.6/dist-packages (from jupyter-console->jupyter; extra == \"all\"->aif360[all]) (1.0.18)\n",
            "Requirement already satisfied: widgetsnbextension~=3.5.0 in /usr/local/lib/python3.6/dist-packages (from ipywidgets->jupyter; extra == \"all\"->aif360[all]) (3.5.1)\n",
            "Requirement already satisfied: terminado>=0.3.3; sys_platform != \"win32\" in /usr/local/lib/python3.6/dist-packages (from notebook->jupyter; extra == \"all\"->aif360[all]) (0.8.3)\n",
            "Requirement already satisfied: imageio>=2.3.0 in /usr/local/lib/python3.6/dist-packages (from scikit-image>=0.12->lime; extra == \"all\"->aif360[all]) (2.4.1)\n",
            "Requirement already satisfied: PyWavelets>=0.4.0 in /usr/local/lib/python3.6/dist-packages (from scikit-image>=0.12->lime; extra == \"all\"->aif360[all]) (1.1.1)\n",
            "Requirement already satisfied: markdown>=2.6.8 in /usr/local/lib/python3.6/dist-packages (from tensorboard<1.16.0,>=1.15.0->tensorflow<2,>=1.13.1; extra == \"all\"->aif360[all]) (3.2.2)\n",
            "Requirement already satisfied: werkzeug>=0.11.15 in /usr/local/lib/python3.6/dist-packages (from tensorboard<1.16.0,>=1.15.0->tensorflow<2,>=1.13.1; extra == \"all\"->aif360[all]) (1.0.1)\n",
            "Requirement already satisfied: h5py in /usr/local/lib/python3.6/dist-packages (from keras-applications>=1.0.8->tensorflow<2,>=1.13.1; extra == \"all\"->aif360[all]) (2.10.0)\n",
            "Requirement already satisfied: dill>=0.3.1 in /usr/local/lib/python3.6/dist-packages (from multiprocess->cvxpy>=1.0; extra == \"all\"->aif360[all]) (0.3.1.1)\n",
            "Requirement already satisfied: future in /usr/local/lib/python3.6/dist-packages (from osqp>=0.4.1->cvxpy>=1.0; extra == \"all\"->aif360[all]) (0.16.0)\n",
            "Requirement already satisfied: decorator>=4.3.0 in /usr/local/lib/python3.6/dist-packages (from networkx->BlackBoxAuditing; extra == \"all\"->aif360[all]) (4.4.2)\n",
            "Requirement already satisfied: idna<3,>=2.5 in /usr/local/lib/python3.6/dist-packages (from requests>=2.0.0->sphinx; extra == \"all\"->aif360[all]) (2.9)\n",
            "Requirement already satisfied: certifi>=2017.4.17 in /usr/local/lib/python3.6/dist-packages (from requests>=2.0.0->sphinx; extra == \"all\"->aif360[all]) (2020.4.5.1)\n",
            "Requirement already satisfied: chardet<4,>=3.0.2 in /usr/local/lib/python3.6/dist-packages (from requests>=2.0.0->sphinx; extra == \"all\"->aif360[all]) (3.0.4)\n",
            "Requirement already satisfied: urllib3!=1.25.0,!=1.25.1,<1.26,>=1.21.1 in /usr/local/lib/python3.6/dist-packages (from requests>=2.0.0->sphinx; extra == \"all\"->aif360[all]) (1.24.3)\n",
            "Requirement already satisfied: MarkupSafe>=0.23 in /usr/local/lib/python3.6/dist-packages (from Jinja2>=2.3->sphinx; extra == \"all\"->aif360[all]) (1.1.1)\n",
            "Requirement already satisfied: webencodings in /usr/local/lib/python3.6/dist-packages (from bleach->nbconvert->jupyter; extra == \"all\"->aif360[all]) (0.5.1)\n",
            "Requirement already satisfied: jsonschema!=2.5.0,>=2.4 in /usr/local/lib/python3.6/dist-packages (from nbformat>=4.4->nbconvert->jupyter; extra == \"all\"->aif360[all]) (2.6.0)\n",
            "Requirement already satisfied: pexpect; sys_platform != \"win32\" in /usr/local/lib/python3.6/dist-packages (from ipython>=4.0.0->ipykernel->jupyter; extra == \"all\"->aif360[all]) (4.8.0)\n",
            "Requirement already satisfied: pickleshare in /usr/local/lib/python3.6/dist-packages (from ipython>=4.0.0->ipykernel->jupyter; extra == \"all\"->aif360[all]) (0.7.5)\n",
            "Requirement already satisfied: simplegeneric>0.8 in /usr/local/lib/python3.6/dist-packages (from ipython>=4.0.0->ipykernel->jupyter; extra == \"all\"->aif360[all]) (0.8.1)\n",
            "Requirement already satisfied: wcwidth in /usr/local/lib/python3.6/dist-packages (from prompt-toolkit<2.0.0,>=1.0.0->jupyter-console->jupyter; extra == \"all\"->aif360[all]) (0.2.3)\n",
            "Requirement already satisfied: ptyprocess; os_name != \"nt\" in /usr/local/lib/python3.6/dist-packages (from terminado>=0.3.3; sys_platform != \"win32\"->notebook->jupyter; extra == \"all\"->aif360[all]) (0.6.0)\n",
            "Requirement already satisfied: importlib-metadata; python_version < \"3.8\" in /usr/local/lib/python3.6/dist-packages (from markdown>=2.6.8->tensorboard<1.16.0,>=1.15.0->tensorflow<2,>=1.13.1; extra == \"all\"->aif360[all]) (1.6.0)\n",
            "Requirement already satisfied: zipp>=0.5 in /usr/local/lib/python3.6/dist-packages (from importlib-metadata; python_version < \"3.8\"->markdown>=2.6.8->tensorboard<1.16.0,>=1.15.0->tensorflow<2,>=1.13.1; extra == \"all\"->aif360[all]) (3.1.0)\n"
          ],
          "name": "stdout"
        }
      ]
    },
    {
      "cell_type": "code",
      "metadata": {
        "id": "95cNkdiE0ljc",
        "colab_type": "code",
        "colab": {}
      },
      "source": [
        "%matplotlib inline\n",
        "# Load all necessary packages\n",
        "import sys\n",
        "sys.path.append(\"../\")\n",
        "from aif360.datasets import BinaryLabelDataset\n",
        "from aif360.datasets import AdultDataset, GermanDataset, CompasDataset\n",
        "from aif360.metrics import BinaryLabelDatasetMetric\n",
        "from aif360.metrics import ClassificationMetric\n",
        "from aif360.metrics.utils import compute_boolean_conditioning_vector\n",
        "\n",
        "from aif360.algorithms.preprocessing.optim_preproc_helpers.data_preproc_functions import load_preproc_data_adult, load_preproc_data_compas, load_preproc_data_german\n",
        "\n",
        "from aif360.algorithms.inprocessing.adversarial_debiasing import AdversarialDebiasing\n",
        "\n",
        "from sklearn.linear_model import LogisticRegression\n",
        "from sklearn.preprocessing import StandardScaler, MaxAbsScaler\n",
        "from sklearn.metrics import accuracy_score\n",
        "\n",
        "from IPython.display import Markdown, display\n",
        "import matplotlib.pyplot as plt\n",
        "\n",
        "import tensorflow as tf"
      ],
      "execution_count": 0,
      "outputs": []
    },
    {
      "cell_type": "code",
      "metadata": {
        "id": "RAYcQ3Up4xcZ",
        "colab_type": "code",
        "colab": {
          "base_uri": "https://localhost:8080/",
          "height": 608
        },
        "outputId": "9d56f91e-1be6-479b-f134-e4ac308c6b56"
      },
      "source": [
        "# Get the dataset and split into train and test\n",
        "!wget https://archive.ics.uci.edu/ml/machine-learning-databases/adult/adult.data\n",
        "!wget https://archive.ics.uci.edu/ml/machine-learning-databases/adult/adult.test\n",
        "!wget https://archive.ics.uci.edu/ml/machine-learning-databases/adult/adult.names\n",
        "!sudo cp adult.data /usr/local/lib/python3.6/dist-packages/aif360/data/raw/adult\n",
        "!sudo cp adult.test /usr/local/lib/python3.6/dist-packages/aif360/data/raw/adult\n",
        "!sudo cp adult.names /usr/local/lib/python3.6/dist-packages/aif360/data/raw/adult"
      ],
      "execution_count": 4,
      "outputs": [
        {
          "output_type": "stream",
          "text": [
            "--2020-06-12 04:56:46--  https://archive.ics.uci.edu/ml/machine-learning-databases/adult/adult.data\n",
            "Resolving archive.ics.uci.edu (archive.ics.uci.edu)... 128.195.10.252\n",
            "Connecting to archive.ics.uci.edu (archive.ics.uci.edu)|128.195.10.252|:443... connected.\n",
            "HTTP request sent, awaiting response... 200 OK\n",
            "Length: 3974305 (3.8M) [application/x-httpd-php]\n",
            "Saving to: ‘adult.data’\n",
            "\n",
            "adult.data          100%[===================>]   3.79M  3.64MB/s    in 1.0s    \n",
            "\n",
            "2020-06-12 04:56:48 (3.64 MB/s) - ‘adult.data’ saved [3974305/3974305]\n",
            "\n",
            "--2020-06-12 04:56:53--  https://archive.ics.uci.edu/ml/machine-learning-databases/adult/adult.test\n",
            "Resolving archive.ics.uci.edu (archive.ics.uci.edu)... 128.195.10.252\n",
            "Connecting to archive.ics.uci.edu (archive.ics.uci.edu)|128.195.10.252|:443... connected.\n",
            "HTTP request sent, awaiting response... 200 OK\n",
            "Length: 2003153 (1.9M) [application/x-httpd-php]\n",
            "Saving to: ‘adult.test’\n",
            "\n",
            "adult.test          100%[===================>]   1.91M  2.10MB/s    in 0.9s    \n",
            "\n",
            "2020-06-12 04:56:54 (2.10 MB/s) - ‘adult.test’ saved [2003153/2003153]\n",
            "\n",
            "--2020-06-12 04:56:57--  https://archive.ics.uci.edu/ml/machine-learning-databases/adult/adult.names\n",
            "Resolving archive.ics.uci.edu (archive.ics.uci.edu)... 128.195.10.252\n",
            "Connecting to archive.ics.uci.edu (archive.ics.uci.edu)|128.195.10.252|:443... connected.\n",
            "HTTP request sent, awaiting response... 200 OK\n",
            "Length: 5229 (5.1K) [application/x-httpd-php]\n",
            "Saving to: ‘adult.names’\n",
            "\n",
            "adult.names         100%[===================>]   5.11K  --.-KB/s    in 0s      \n",
            "\n",
            "2020-06-12 04:56:58 (89.9 MB/s) - ‘adult.names’ saved [5229/5229]\n",
            "\n"
          ],
          "name": "stdout"
        }
      ]
    },
    {
      "cell_type": "markdown",
      "metadata": {
        "id": "beh-9BpA0ljp",
        "colab_type": "text"
      },
      "source": [
        "#### Load dataset and set options"
      ]
    },
    {
      "cell_type": "code",
      "metadata": {
        "id": "M2HhNGYN0ljq",
        "colab_type": "code",
        "colab": {}
      },
      "source": [
        "# Get the dataset and split into train and test\n",
        "dataset_orig = load_preproc_data_adult()\n",
        "\n",
        "privileged_groups = [{'sex': 1}]\n",
        "unprivileged_groups = [{'sex': 0}]\n",
        "\n",
        "dataset_orig_train, dataset_orig_test = dataset_orig.split([0.7], shuffle=True)"
      ],
      "execution_count": 0,
      "outputs": []
    },
    {
      "cell_type": "code",
      "metadata": {
        "id": "2Ikt8kYW0ljy",
        "colab_type": "code",
        "colab": {
          "base_uri": "https://localhost:8080/",
          "height": 330
        },
        "outputId": "5f364e9f-fb51-4756-e105-63fa6d462342"
      },
      "source": [
        "# print out some labels, names, etc.\n",
        "display(Markdown(\"#### Training Dataset shape\"))\n",
        "print(dataset_orig_train.features.shape)\n",
        "display(Markdown(\"#### Favorable and unfavorable labels\"))\n",
        "print(dataset_orig_train.favorable_label, dataset_orig_train.unfavorable_label)\n",
        "display(Markdown(\"#### Protected attribute names\"))\n",
        "print(dataset_orig_train.protected_attribute_names)\n",
        "display(Markdown(\"#### Privileged and unprivileged protected attribute values\"))\n",
        "print(dataset_orig_train.privileged_protected_attributes, \n",
        "      dataset_orig_train.unprivileged_protected_attributes)\n",
        "display(Markdown(\"#### Dataset feature names\"))\n",
        "print(dataset_orig_train.feature_names)"
      ],
      "execution_count": 6,
      "outputs": [
        {
          "output_type": "display_data",
          "data": {
            "text/markdown": "#### Training Dataset shape",
            "text/plain": [
              "<IPython.core.display.Markdown object>"
            ]
          },
          "metadata": {
            "tags": []
          }
        },
        {
          "output_type": "stream",
          "text": [
            "(34189, 18)\n"
          ],
          "name": "stdout"
        },
        {
          "output_type": "display_data",
          "data": {
            "text/markdown": "#### Favorable and unfavorable labels",
            "text/plain": [
              "<IPython.core.display.Markdown object>"
            ]
          },
          "metadata": {
            "tags": []
          }
        },
        {
          "output_type": "stream",
          "text": [
            "1.0 0.0\n"
          ],
          "name": "stdout"
        },
        {
          "output_type": "display_data",
          "data": {
            "text/markdown": "#### Protected attribute names",
            "text/plain": [
              "<IPython.core.display.Markdown object>"
            ]
          },
          "metadata": {
            "tags": []
          }
        },
        {
          "output_type": "stream",
          "text": [
            "['sex', 'race']\n"
          ],
          "name": "stdout"
        },
        {
          "output_type": "display_data",
          "data": {
            "text/markdown": "#### Privileged and unprivileged protected attribute values",
            "text/plain": [
              "<IPython.core.display.Markdown object>"
            ]
          },
          "metadata": {
            "tags": []
          }
        },
        {
          "output_type": "stream",
          "text": [
            "[array([1.]), array([1.])] [array([0.]), array([0.])]\n"
          ],
          "name": "stdout"
        },
        {
          "output_type": "display_data",
          "data": {
            "text/markdown": "#### Dataset feature names",
            "text/plain": [
              "<IPython.core.display.Markdown object>"
            ]
          },
          "metadata": {
            "tags": []
          }
        },
        {
          "output_type": "stream",
          "text": [
            "['race', 'sex', 'Age (decade)=10', 'Age (decade)=20', 'Age (decade)=30', 'Age (decade)=40', 'Age (decade)=50', 'Age (decade)=60', 'Age (decade)=>=70', 'Education Years=6', 'Education Years=7', 'Education Years=8', 'Education Years=9', 'Education Years=10', 'Education Years=11', 'Education Years=12', 'Education Years=<6', 'Education Years=>12']\n"
          ],
          "name": "stdout"
        }
      ]
    },
    {
      "cell_type": "markdown",
      "metadata": {
        "id": "lijcz2nJ0lj5",
        "colab_type": "text"
      },
      "source": [
        "#### Metric for original training data"
      ]
    },
    {
      "cell_type": "code",
      "metadata": {
        "id": "1PG3IAGC0lj7",
        "colab_type": "code",
        "colab": {
          "base_uri": "https://localhost:8080/",
          "height": 91
        },
        "outputId": "9339b4e9-feb7-416a-883b-5046b50ca699"
      },
      "source": [
        "# Metric for the original dataset\n",
        "metric_orig_train = BinaryLabelDatasetMetric(dataset_orig_train, \n",
        "                                             unprivileged_groups=unprivileged_groups,\n",
        "                                             privileged_groups=privileged_groups)\n",
        "display(Markdown(\"#### Original training dataset\"))\n",
        "print(\"Train set: Difference in mean outcomes between unprivileged and privileged groups = %f\" % metric_orig_train.mean_difference())\n",
        "metric_orig_test = BinaryLabelDatasetMetric(dataset_orig_test, \n",
        "                                             unprivileged_groups=unprivileged_groups,\n",
        "                                             privileged_groups=privileged_groups)\n",
        "print(\"Test set: Difference in mean outcomes between unprivileged and privileged groups = %f\" % metric_orig_test.mean_difference())"
      ],
      "execution_count": 7,
      "outputs": [
        {
          "output_type": "display_data",
          "data": {
            "text/markdown": "#### Original training dataset",
            "text/plain": [
              "<IPython.core.display.Markdown object>"
            ]
          },
          "metadata": {
            "tags": []
          }
        },
        {
          "output_type": "stream",
          "text": [
            "Train set: Difference in mean outcomes between unprivileged and privileged groups = -0.197727\n",
            "Test set: Difference in mean outcomes between unprivileged and privileged groups = -0.187033\n"
          ],
          "name": "stdout"
        }
      ]
    },
    {
      "cell_type": "code",
      "metadata": {
        "id": "zTqszdLt0lkB",
        "colab_type": "code",
        "colab": {
          "base_uri": "https://localhost:8080/",
          "height": 91
        },
        "outputId": "02eb8327-5d2c-432e-a3f8-4acb7929d355"
      },
      "source": [
        "min_max_scaler = MaxAbsScaler()\n",
        "dataset_orig_train.features = min_max_scaler.fit_transform(dataset_orig_train.features)\n",
        "dataset_orig_test.features = min_max_scaler.transform(dataset_orig_test.features)\n",
        "metric_scaled_train = BinaryLabelDatasetMetric(dataset_orig_train, \n",
        "                             unprivileged_groups=unprivileged_groups,\n",
        "                             privileged_groups=privileged_groups)\n",
        "display(Markdown(\"#### Scaled dataset - Verify that the scaling does not affect the group label statistics\"))\n",
        "print(\"Train set: Difference in mean outcomes between unprivileged and privileged groups = %f\" % metric_scaled_train.mean_difference())\n",
        "metric_scaled_test = BinaryLabelDatasetMetric(dataset_orig_test, \n",
        "                             unprivileged_groups=unprivileged_groups,\n",
        "                             privileged_groups=privileged_groups)\n",
        "print(\"Test set: Difference in mean outcomes between unprivileged and privileged groups = %f\" % metric_scaled_test.mean_difference())\n"
      ],
      "execution_count": 8,
      "outputs": [
        {
          "output_type": "display_data",
          "data": {
            "text/markdown": "#### Scaled dataset - Verify that the scaling does not affect the group label statistics",
            "text/plain": [
              "<IPython.core.display.Markdown object>"
            ]
          },
          "metadata": {
            "tags": []
          }
        },
        {
          "output_type": "stream",
          "text": [
            "Train set: Difference in mean outcomes between unprivileged and privileged groups = -0.197727\n",
            "Test set: Difference in mean outcomes between unprivileged and privileged groups = -0.187033\n"
          ],
          "name": "stdout"
        }
      ]
    },
    {
      "cell_type": "markdown",
      "metadata": {
        "id": "O4XxuizL0lkI",
        "colab_type": "text"
      },
      "source": [
        "### Learn plan classifier without debiasing"
      ]
    },
    {
      "cell_type": "code",
      "metadata": {
        "id": "kwL8R-3A0lkJ",
        "colab_type": "code",
        "colab": {}
      },
      "source": [
        "# Load post-processing algorithm that equalizes the odds\n",
        "# Learn parameters with debias set to False\n",
        "sess = tf.Session()\n",
        "plain_model = AdversarialDebiasing(privileged_groups = privileged_groups,\n",
        "                          unprivileged_groups = unprivileged_groups,\n",
        "                          scope_name='plain_classifier',\n",
        "                          debias=False,\n",
        "                          sess=sess)"
      ],
      "execution_count": 0,
      "outputs": []
    },
    {
      "cell_type": "code",
      "metadata": {
        "scrolled": true,
        "id": "ala0uK3w0lkV",
        "colab_type": "code",
        "colab": {
          "base_uri": "https://localhost:8080/",
          "height": 1000
        },
        "outputId": "5e301c8f-8ff4-4b85-9e6d-bbc026c82706"
      },
      "source": [
        "plain_model.fit(dataset_orig_train)"
      ],
      "execution_count": 10,
      "outputs": [
        {
          "output_type": "stream",
          "text": [
            "WARNING:tensorflow:From /usr/local/lib/python3.6/dist-packages/aif360/algorithms/inprocessing/adversarial_debiasing.py:137: The name tf.variable_scope is deprecated. Please use tf.compat.v1.variable_scope instead.\n",
            "\n",
            "WARNING:tensorflow:From /usr/local/lib/python3.6/dist-packages/aif360/algorithms/inprocessing/adversarial_debiasing.py:141: The name tf.placeholder is deprecated. Please use tf.compat.v1.placeholder instead.\n",
            "\n",
            "WARNING:tensorflow:From /usr/local/lib/python3.6/dist-packages/aif360/algorithms/inprocessing/adversarial_debiasing.py:84: The name tf.get_variable is deprecated. Please use tf.compat.v1.get_variable instead.\n",
            "\n",
            "WARNING:tensorflow:\n",
            "The TensorFlow contrib module will not be included in TensorFlow 2.0.\n",
            "For more information, please see:\n",
            "  * https://github.com/tensorflow/community/blob/master/rfcs/20180907-contrib-sunset.md\n",
            "  * https://github.com/tensorflow/addons\n",
            "  * https://github.com/tensorflow/io (for I/O related ops)\n",
            "If you depend on functionality not listed there, please file an issue.\n",
            "\n",
            "WARNING:tensorflow:From /usr/local/lib/python3.6/dist-packages/aif360/algorithms/inprocessing/adversarial_debiasing.py:89: calling dropout (from tensorflow.python.ops.nn_ops) with keep_prob is deprecated and will be removed in a future version.\n",
            "Instructions for updating:\n",
            "Please use `rate` instead of `keep_prob`. Rate should be set to `rate = 1 - keep_prob`.\n",
            "WARNING:tensorflow:From /usr/local/lib/python3.6/dist-packages/tensorflow_core/python/ops/nn_impl.py:183: where (from tensorflow.python.ops.array_ops) is deprecated and will be removed in a future version.\n",
            "Instructions for updating:\n",
            "Use tf.where in 2.0, which has the same broadcast rule as np.where\n",
            "WARNING:tensorflow:From /usr/local/lib/python3.6/dist-packages/aif360/algorithms/inprocessing/adversarial_debiasing.py:159: The name tf.train.exponential_decay is deprecated. Please use tf.compat.v1.train.exponential_decay instead.\n",
            "\n",
            "WARNING:tensorflow:From /usr/local/lib/python3.6/dist-packages/aif360/algorithms/inprocessing/adversarial_debiasing.py:161: The name tf.train.AdamOptimizer is deprecated. Please use tf.compat.v1.train.AdamOptimizer instead.\n",
            "\n",
            "WARNING:tensorflow:From /usr/local/lib/python3.6/dist-packages/aif360/algorithms/inprocessing/adversarial_debiasing.py:165: The name tf.trainable_variables is deprecated. Please use tf.compat.v1.trainable_variables instead.\n",
            "\n",
            "WARNING:tensorflow:From /usr/local/lib/python3.6/dist-packages/aif360/algorithms/inprocessing/adversarial_debiasing.py:187: The name tf.global_variables_initializer is deprecated. Please use tf.compat.v1.global_variables_initializer instead.\n",
            "\n",
            "WARNING:tensorflow:From /usr/local/lib/python3.6/dist-packages/aif360/algorithms/inprocessing/adversarial_debiasing.py:188: The name tf.local_variables_initializer is deprecated. Please use tf.compat.v1.local_variables_initializer instead.\n",
            "\n",
            "epoch 0; iter: 0; batch classifier loss: 0.732067\n",
            "epoch 0; iter: 200; batch classifier loss: 0.370982\n",
            "epoch 1; iter: 0; batch classifier loss: 0.445461\n",
            "epoch 1; iter: 200; batch classifier loss: 0.476783\n",
            "epoch 2; iter: 0; batch classifier loss: 0.491790\n",
            "epoch 2; iter: 200; batch classifier loss: 0.382747\n",
            "epoch 3; iter: 0; batch classifier loss: 0.383340\n",
            "epoch 3; iter: 200; batch classifier loss: 0.445279\n",
            "epoch 4; iter: 0; batch classifier loss: 0.294474\n",
            "epoch 4; iter: 200; batch classifier loss: 0.412501\n",
            "epoch 5; iter: 0; batch classifier loss: 0.414833\n",
            "epoch 5; iter: 200; batch classifier loss: 0.400263\n",
            "epoch 6; iter: 0; batch classifier loss: 0.398536\n",
            "epoch 6; iter: 200; batch classifier loss: 0.491703\n",
            "epoch 7; iter: 0; batch classifier loss: 0.475560\n",
            "epoch 7; iter: 200; batch classifier loss: 0.370697\n",
            "epoch 8; iter: 0; batch classifier loss: 0.433649\n",
            "epoch 8; iter: 200; batch classifier loss: 0.389431\n",
            "epoch 9; iter: 0; batch classifier loss: 0.416657\n",
            "epoch 9; iter: 200; batch classifier loss: 0.331752\n",
            "epoch 10; iter: 0; batch classifier loss: 0.389744\n",
            "epoch 10; iter: 200; batch classifier loss: 0.403789\n",
            "epoch 11; iter: 0; batch classifier loss: 0.446825\n",
            "epoch 11; iter: 200; batch classifier loss: 0.450055\n",
            "epoch 12; iter: 0; batch classifier loss: 0.442517\n",
            "epoch 12; iter: 200; batch classifier loss: 0.343830\n",
            "epoch 13; iter: 0; batch classifier loss: 0.450748\n",
            "epoch 13; iter: 200; batch classifier loss: 0.414751\n",
            "epoch 14; iter: 0; batch classifier loss: 0.401042\n",
            "epoch 14; iter: 200; batch classifier loss: 0.440854\n",
            "epoch 15; iter: 0; batch classifier loss: 0.401962\n",
            "epoch 15; iter: 200; batch classifier loss: 0.416093\n",
            "epoch 16; iter: 0; batch classifier loss: 0.384507\n",
            "epoch 16; iter: 200; batch classifier loss: 0.404388\n",
            "epoch 17; iter: 0; batch classifier loss: 0.515467\n",
            "epoch 17; iter: 200; batch classifier loss: 0.460456\n",
            "epoch 18; iter: 0; batch classifier loss: 0.492505\n",
            "epoch 18; iter: 200; batch classifier loss: 0.321860\n",
            "epoch 19; iter: 0; batch classifier loss: 0.429000\n",
            "epoch 19; iter: 200; batch classifier loss: 0.392935\n",
            "epoch 20; iter: 0; batch classifier loss: 0.447087\n",
            "epoch 20; iter: 200; batch classifier loss: 0.307508\n",
            "epoch 21; iter: 0; batch classifier loss: 0.462311\n",
            "epoch 21; iter: 200; batch classifier loss: 0.479881\n",
            "epoch 22; iter: 0; batch classifier loss: 0.433619\n",
            "epoch 22; iter: 200; batch classifier loss: 0.360670\n",
            "epoch 23; iter: 0; batch classifier loss: 0.416000\n",
            "epoch 23; iter: 200; batch classifier loss: 0.418801\n",
            "epoch 24; iter: 0; batch classifier loss: 0.384711\n",
            "epoch 24; iter: 200; batch classifier loss: 0.405841\n",
            "epoch 25; iter: 0; batch classifier loss: 0.462346\n",
            "epoch 25; iter: 200; batch classifier loss: 0.362757\n",
            "epoch 26; iter: 0; batch classifier loss: 0.424806\n",
            "epoch 26; iter: 200; batch classifier loss: 0.479070\n",
            "epoch 27; iter: 0; batch classifier loss: 0.479403\n",
            "epoch 27; iter: 200; batch classifier loss: 0.361955\n",
            "epoch 28; iter: 0; batch classifier loss: 0.415307\n",
            "epoch 28; iter: 200; batch classifier loss: 0.413383\n",
            "epoch 29; iter: 0; batch classifier loss: 0.432804\n",
            "epoch 29; iter: 200; batch classifier loss: 0.377071\n",
            "epoch 30; iter: 0; batch classifier loss: 0.423845\n",
            "epoch 30; iter: 200; batch classifier loss: 0.490735\n",
            "epoch 31; iter: 0; batch classifier loss: 0.407290\n",
            "epoch 31; iter: 200; batch classifier loss: 0.398990\n",
            "epoch 32; iter: 0; batch classifier loss: 0.408310\n",
            "epoch 32; iter: 200; batch classifier loss: 0.342423\n",
            "epoch 33; iter: 0; batch classifier loss: 0.491431\n",
            "epoch 33; iter: 200; batch classifier loss: 0.471505\n",
            "epoch 34; iter: 0; batch classifier loss: 0.490402\n",
            "epoch 34; iter: 200; batch classifier loss: 0.387494\n",
            "epoch 35; iter: 0; batch classifier loss: 0.299634\n",
            "epoch 35; iter: 200; batch classifier loss: 0.403134\n",
            "epoch 36; iter: 0; batch classifier loss: 0.479264\n",
            "epoch 36; iter: 200; batch classifier loss: 0.387595\n",
            "epoch 37; iter: 0; batch classifier loss: 0.499778\n",
            "epoch 37; iter: 200; batch classifier loss: 0.397347\n",
            "epoch 38; iter: 0; batch classifier loss: 0.409169\n",
            "epoch 38; iter: 200; batch classifier loss: 0.502175\n",
            "epoch 39; iter: 0; batch classifier loss: 0.396111\n",
            "epoch 39; iter: 200; batch classifier loss: 0.316244\n",
            "epoch 40; iter: 0; batch classifier loss: 0.366035\n",
            "epoch 40; iter: 200; batch classifier loss: 0.392804\n",
            "epoch 41; iter: 0; batch classifier loss: 0.496235\n",
            "epoch 41; iter: 200; batch classifier loss: 0.403517\n",
            "epoch 42; iter: 0; batch classifier loss: 0.459635\n",
            "epoch 42; iter: 200; batch classifier loss: 0.391637\n",
            "epoch 43; iter: 0; batch classifier loss: 0.402464\n",
            "epoch 43; iter: 200; batch classifier loss: 0.445951\n",
            "epoch 44; iter: 0; batch classifier loss: 0.408255\n",
            "epoch 44; iter: 200; batch classifier loss: 0.362044\n",
            "epoch 45; iter: 0; batch classifier loss: 0.389962\n",
            "epoch 45; iter: 200; batch classifier loss: 0.453538\n",
            "epoch 46; iter: 0; batch classifier loss: 0.408427\n",
            "epoch 46; iter: 200; batch classifier loss: 0.469279\n",
            "epoch 47; iter: 0; batch classifier loss: 0.408811\n",
            "epoch 47; iter: 200; batch classifier loss: 0.383226\n",
            "epoch 48; iter: 0; batch classifier loss: 0.327700\n",
            "epoch 48; iter: 200; batch classifier loss: 0.357904\n",
            "epoch 49; iter: 0; batch classifier loss: 0.418120\n",
            "epoch 49; iter: 200; batch classifier loss: 0.418002\n"
          ],
          "name": "stdout"
        },
        {
          "output_type": "execute_result",
          "data": {
            "text/plain": [
              "<aif360.algorithms.inprocessing.adversarial_debiasing.AdversarialDebiasing at 0x7f1b5e0614e0>"
            ]
          },
          "metadata": {
            "tags": []
          },
          "execution_count": 10
        }
      ]
    },
    {
      "cell_type": "code",
      "metadata": {
        "id": "9YFn1bc_0lkc",
        "colab_type": "code",
        "colab": {}
      },
      "source": [
        "# Apply the plain model to test data\n",
        "dataset_nodebiasing_train = plain_model.predict(dataset_orig_train)\n",
        "dataset_nodebiasing_test = plain_model.predict(dataset_orig_test)"
      ],
      "execution_count": 0,
      "outputs": []
    },
    {
      "cell_type": "code",
      "metadata": {
        "id": "vAOtEg4e0lkh",
        "colab_type": "code",
        "colab": {
          "base_uri": "https://localhost:8080/",
          "height": 232
        },
        "outputId": "deefdb85-f17d-4e72-ac54-b0e9232f45a1"
      },
      "source": [
        "# Metrics for the dataset from plain model (without debiasing)\n",
        "display(Markdown(\"#### Plain model - without debiasing - dataset metrics\"))\n",
        "metric_dataset_nodebiasing_train = BinaryLabelDatasetMetric(dataset_nodebiasing_train, \n",
        "                                             unprivileged_groups=unprivileged_groups,\n",
        "                                             privileged_groups=privileged_groups)\n",
        "\n",
        "print(\"Train set: Difference in mean outcomes between unprivileged and privileged groups = %f\" % metric_dataset_nodebiasing_train.mean_difference())\n",
        "\n",
        "metric_dataset_nodebiasing_test = BinaryLabelDatasetMetric(dataset_nodebiasing_test, \n",
        "                                             unprivileged_groups=unprivileged_groups,\n",
        "                                             privileged_groups=privileged_groups)\n",
        "\n",
        "print(\"Test set: Difference in mean outcomes between unprivileged and privileged groups = %f\" % metric_dataset_nodebiasing_test.mean_difference())\n",
        "\n",
        "display(Markdown(\"#### Plain model - without debiasing - classification metrics\"))\n",
        "classified_metric_nodebiasing_test = ClassificationMetric(dataset_orig_test, \n",
        "                                                 dataset_nodebiasing_test,\n",
        "                                                 unprivileged_groups=unprivileged_groups,\n",
        "                                                 privileged_groups=privileged_groups)\n",
        "print(\"Test set: Classification accuracy = %f\" % classified_metric_nodebiasing_test.accuracy())\n",
        "TPR = classified_metric_nodebiasing_test.true_positive_rate()\n",
        "TNR = classified_metric_nodebiasing_test.true_negative_rate()\n",
        "bal_acc_nodebiasing_test = 0.5*(TPR+TNR)\n",
        "print(\"Test set: Balanced classification accuracy = %f\" % bal_acc_nodebiasing_test)\n",
        "print(\"Test set: Disparate impact = %f\" % classified_metric_nodebiasing_test.disparate_impact())\n",
        "print(\"Test set: Equal opportunity difference = %f\" % classified_metric_nodebiasing_test.equal_opportunity_difference())\n",
        "print(\"Test set: Average odds difference = %f\" % classified_metric_nodebiasing_test.average_odds_difference())\n",
        "print(\"Test set: Theil_index = %f\" % classified_metric_nodebiasing_test.theil_index())"
      ],
      "execution_count": 12,
      "outputs": [
        {
          "output_type": "display_data",
          "data": {
            "text/markdown": "#### Plain model - without debiasing - dataset metrics",
            "text/plain": [
              "<IPython.core.display.Markdown object>"
            ]
          },
          "metadata": {
            "tags": []
          }
        },
        {
          "output_type": "stream",
          "text": [
            "Train set: Difference in mean outcomes between unprivileged and privileged groups = -0.235857\n",
            "Test set: Difference in mean outcomes between unprivileged and privileged groups = -0.230351\n"
          ],
          "name": "stdout"
        },
        {
          "output_type": "display_data",
          "data": {
            "text/markdown": "#### Plain model - without debiasing - classification metrics",
            "text/plain": [
              "<IPython.core.display.Markdown object>"
            ]
          },
          "metadata": {
            "tags": []
          }
        },
        {
          "output_type": "stream",
          "text": [
            "Test set: Classification accuracy = 0.799495\n",
            "Test set: Balanced classification accuracy = 0.661993\n",
            "Test set: Disparate impact = 0.000000\n",
            "Test set: Equal opportunity difference = -0.476044\n",
            "Test set: Average odds difference = -0.300696\n",
            "Test set: Theil_index = 0.175698\n"
          ],
          "name": "stdout"
        }
      ]
    },
    {
      "cell_type": "markdown",
      "metadata": {
        "id": "jsohGw3D0lkn",
        "colab_type": "text"
      },
      "source": [
        "### Apply in-processing algorithm based on adversarial learning"
      ]
    },
    {
      "cell_type": "code",
      "metadata": {
        "id": "LlM9aG_w0lko",
        "colab_type": "code",
        "colab": {}
      },
      "source": [
        "sess.close()\n",
        "tf.reset_default_graph()\n",
        "sess = tf.Session()"
      ],
      "execution_count": 0,
      "outputs": []
    },
    {
      "cell_type": "code",
      "metadata": {
        "id": "nSnWzKHM0lkv",
        "colab_type": "code",
        "colab": {}
      },
      "source": [
        "# Learn parameters with debias set to True\n",
        "debiased_model = AdversarialDebiasing(privileged_groups = privileged_groups,\n",
        "                          unprivileged_groups = unprivileged_groups,\n",
        "                          scope_name='debiased_classifier',\n",
        "                          debias=True,\n",
        "                          sess=sess)"
      ],
      "execution_count": 0,
      "outputs": []
    },
    {
      "cell_type": "code",
      "metadata": {
        "scrolled": true,
        "id": "wqPUOszv0lk1",
        "colab_type": "code",
        "colab": {
          "base_uri": "https://localhost:8080/",
          "height": 1000
        },
        "outputId": "752edb53-e536-4fbf-b435-2afdd7527edb"
      },
      "source": [
        "debiased_model.fit(dataset_orig_train)"
      ],
      "execution_count": 15,
      "outputs": [
        {
          "output_type": "stream",
          "text": [
            "epoch 0; iter: 0; batch classifier loss: 0.717563; batch adversarial loss: 0.620638\n",
            "epoch 0; iter: 200; batch classifier loss: 0.428730; batch adversarial loss: 0.651794\n",
            "epoch 1; iter: 0; batch classifier loss: 0.471838; batch adversarial loss: 0.675090\n",
            "epoch 1; iter: 200; batch classifier loss: 0.506367; batch adversarial loss: 0.668029\n",
            "epoch 2; iter: 0; batch classifier loss: 0.504233; batch adversarial loss: 0.628306\n",
            "epoch 2; iter: 200; batch classifier loss: 0.483753; batch adversarial loss: 0.602383\n",
            "epoch 3; iter: 0; batch classifier loss: 0.463703; batch adversarial loss: 0.597308\n",
            "epoch 3; iter: 200; batch classifier loss: 0.445618; batch adversarial loss: 0.662755\n",
            "epoch 4; iter: 0; batch classifier loss: 0.424864; batch adversarial loss: 0.616582\n",
            "epoch 4; iter: 200; batch classifier loss: 0.435627; batch adversarial loss: 0.607406\n",
            "epoch 5; iter: 0; batch classifier loss: 0.515093; batch adversarial loss: 0.619879\n",
            "epoch 5; iter: 200; batch classifier loss: 0.571211; batch adversarial loss: 0.513741\n",
            "epoch 6; iter: 0; batch classifier loss: 0.458536; batch adversarial loss: 0.641380\n",
            "epoch 6; iter: 200; batch classifier loss: 0.382544; batch adversarial loss: 0.572416\n",
            "epoch 7; iter: 0; batch classifier loss: 0.336809; batch adversarial loss: 0.608787\n",
            "epoch 7; iter: 200; batch classifier loss: 0.426472; batch adversarial loss: 0.628803\n",
            "epoch 8; iter: 0; batch classifier loss: 0.442462; batch adversarial loss: 0.604472\n",
            "epoch 8; iter: 200; batch classifier loss: 0.466287; batch adversarial loss: 0.576567\n",
            "epoch 9; iter: 0; batch classifier loss: 0.485381; batch adversarial loss: 0.617099\n",
            "epoch 9; iter: 200; batch classifier loss: 0.411830; batch adversarial loss: 0.658442\n",
            "epoch 10; iter: 0; batch classifier loss: 0.422828; batch adversarial loss: 0.543793\n",
            "epoch 10; iter: 200; batch classifier loss: 0.415572; batch adversarial loss: 0.620140\n",
            "epoch 11; iter: 0; batch classifier loss: 0.461919; batch adversarial loss: 0.589570\n",
            "epoch 11; iter: 200; batch classifier loss: 0.374956; batch adversarial loss: 0.591922\n",
            "epoch 12; iter: 0; batch classifier loss: 0.411812; batch adversarial loss: 0.534651\n",
            "epoch 12; iter: 200; batch classifier loss: 0.361503; batch adversarial loss: 0.593745\n",
            "epoch 13; iter: 0; batch classifier loss: 0.392922; batch adversarial loss: 0.567103\n",
            "epoch 13; iter: 200; batch classifier loss: 0.420434; batch adversarial loss: 0.633046\n",
            "epoch 14; iter: 0; batch classifier loss: 0.364731; batch adversarial loss: 0.661872\n",
            "epoch 14; iter: 200; batch classifier loss: 0.408073; batch adversarial loss: 0.557523\n",
            "epoch 15; iter: 0; batch classifier loss: 0.480455; batch adversarial loss: 0.638092\n",
            "epoch 15; iter: 200; batch classifier loss: 0.428321; batch adversarial loss: 0.584167\n",
            "epoch 16; iter: 0; batch classifier loss: 0.460518; batch adversarial loss: 0.602954\n",
            "epoch 16; iter: 200; batch classifier loss: 0.437030; batch adversarial loss: 0.630286\n",
            "epoch 17; iter: 0; batch classifier loss: 0.429928; batch adversarial loss: 0.604718\n",
            "epoch 17; iter: 200; batch classifier loss: 0.489163; batch adversarial loss: 0.540633\n",
            "epoch 18; iter: 0; batch classifier loss: 0.405181; batch adversarial loss: 0.595177\n",
            "epoch 18; iter: 200; batch classifier loss: 0.400162; batch adversarial loss: 0.619009\n",
            "epoch 19; iter: 0; batch classifier loss: 0.467550; batch adversarial loss: 0.610999\n",
            "epoch 19; iter: 200; batch classifier loss: 0.357851; batch adversarial loss: 0.612907\n",
            "epoch 20; iter: 0; batch classifier loss: 0.425464; batch adversarial loss: 0.589427\n",
            "epoch 20; iter: 200; batch classifier loss: 0.372953; batch adversarial loss: 0.593387\n",
            "epoch 21; iter: 0; batch classifier loss: 0.500655; batch adversarial loss: 0.570940\n",
            "epoch 21; iter: 200; batch classifier loss: 0.461024; batch adversarial loss: 0.595622\n",
            "epoch 22; iter: 0; batch classifier loss: 0.493435; batch adversarial loss: 0.546164\n",
            "epoch 22; iter: 200; batch classifier loss: 0.408402; batch adversarial loss: 0.596198\n",
            "epoch 23; iter: 0; batch classifier loss: 0.433300; batch adversarial loss: 0.598106\n",
            "epoch 23; iter: 200; batch classifier loss: 0.482972; batch adversarial loss: 0.589136\n",
            "epoch 24; iter: 0; batch classifier loss: 0.365264; batch adversarial loss: 0.590737\n",
            "epoch 24; iter: 200; batch classifier loss: 0.413916; batch adversarial loss: 0.626353\n",
            "epoch 25; iter: 0; batch classifier loss: 0.406237; batch adversarial loss: 0.590829\n",
            "epoch 25; iter: 200; batch classifier loss: 0.470434; batch adversarial loss: 0.618722\n",
            "epoch 26; iter: 0; batch classifier loss: 0.507841; batch adversarial loss: 0.609668\n",
            "epoch 26; iter: 200; batch classifier loss: 0.387248; batch adversarial loss: 0.549122\n",
            "epoch 27; iter: 0; batch classifier loss: 0.533926; batch adversarial loss: 0.582313\n",
            "epoch 27; iter: 200; batch classifier loss: 0.525067; batch adversarial loss: 0.677531\n",
            "epoch 28; iter: 0; batch classifier loss: 0.404072; batch adversarial loss: 0.582256\n",
            "epoch 28; iter: 200; batch classifier loss: 0.523839; batch adversarial loss: 0.614814\n",
            "epoch 29; iter: 0; batch classifier loss: 0.367217; batch adversarial loss: 0.619768\n",
            "epoch 29; iter: 200; batch classifier loss: 0.416887; batch adversarial loss: 0.538528\n",
            "epoch 30; iter: 0; batch classifier loss: 0.510673; batch adversarial loss: 0.592826\n",
            "epoch 30; iter: 200; batch classifier loss: 0.354710; batch adversarial loss: 0.594790\n",
            "epoch 31; iter: 0; batch classifier loss: 0.500360; batch adversarial loss: 0.543157\n",
            "epoch 31; iter: 200; batch classifier loss: 0.459029; batch adversarial loss: 0.584680\n",
            "epoch 32; iter: 0; batch classifier loss: 0.375963; batch adversarial loss: 0.591559\n",
            "epoch 32; iter: 200; batch classifier loss: 0.478645; batch adversarial loss: 0.614643\n",
            "epoch 33; iter: 0; batch classifier loss: 0.397201; batch adversarial loss: 0.600170\n",
            "epoch 33; iter: 200; batch classifier loss: 0.426959; batch adversarial loss: 0.560074\n",
            "epoch 34; iter: 0; batch classifier loss: 0.432403; batch adversarial loss: 0.608773\n",
            "epoch 34; iter: 200; batch classifier loss: 0.384994; batch adversarial loss: 0.596479\n",
            "epoch 35; iter: 0; batch classifier loss: 0.414979; batch adversarial loss: 0.614046\n",
            "epoch 35; iter: 200; batch classifier loss: 0.482239; batch adversarial loss: 0.531696\n",
            "epoch 36; iter: 0; batch classifier loss: 0.513641; batch adversarial loss: 0.584869\n",
            "epoch 36; iter: 200; batch classifier loss: 0.386546; batch adversarial loss: 0.609067\n",
            "epoch 37; iter: 0; batch classifier loss: 0.419675; batch adversarial loss: 0.590719\n",
            "epoch 37; iter: 200; batch classifier loss: 0.375033; batch adversarial loss: 0.576664\n",
            "epoch 38; iter: 0; batch classifier loss: 0.422982; batch adversarial loss: 0.582422\n",
            "epoch 38; iter: 200; batch classifier loss: 0.529510; batch adversarial loss: 0.585993\n",
            "epoch 39; iter: 0; batch classifier loss: 0.390387; batch adversarial loss: 0.587070\n",
            "epoch 39; iter: 200; batch classifier loss: 0.459762; batch adversarial loss: 0.580853\n",
            "epoch 40; iter: 0; batch classifier loss: 0.446786; batch adversarial loss: 0.627091\n",
            "epoch 40; iter: 200; batch classifier loss: 0.423322; batch adversarial loss: 0.610748\n",
            "epoch 41; iter: 0; batch classifier loss: 0.395890; batch adversarial loss: 0.586424\n",
            "epoch 41; iter: 200; batch classifier loss: 0.390980; batch adversarial loss: 0.585277\n",
            "epoch 42; iter: 0; batch classifier loss: 0.393573; batch adversarial loss: 0.624947\n",
            "epoch 42; iter: 200; batch classifier loss: 0.493137; batch adversarial loss: 0.601643\n",
            "epoch 43; iter: 0; batch classifier loss: 0.507550; batch adversarial loss: 0.625875\n",
            "epoch 43; iter: 200; batch classifier loss: 0.370453; batch adversarial loss: 0.617625\n",
            "epoch 44; iter: 0; batch classifier loss: 0.467442; batch adversarial loss: 0.620433\n",
            "epoch 44; iter: 200; batch classifier loss: 0.431633; batch adversarial loss: 0.568551\n",
            "epoch 45; iter: 0; batch classifier loss: 0.438309; batch adversarial loss: 0.597423\n",
            "epoch 45; iter: 200; batch classifier loss: 0.453459; batch adversarial loss: 0.615313\n",
            "epoch 46; iter: 0; batch classifier loss: 0.512034; batch adversarial loss: 0.596013\n",
            "epoch 46; iter: 200; batch classifier loss: 0.396724; batch adversarial loss: 0.575171\n",
            "epoch 47; iter: 0; batch classifier loss: 0.394977; batch adversarial loss: 0.664961\n",
            "epoch 47; iter: 200; batch classifier loss: 0.436647; batch adversarial loss: 0.545265\n",
            "epoch 48; iter: 0; batch classifier loss: 0.420957; batch adversarial loss: 0.572658\n",
            "epoch 48; iter: 200; batch classifier loss: 0.408509; batch adversarial loss: 0.558087\n",
            "epoch 49; iter: 0; batch classifier loss: 0.466448; batch adversarial loss: 0.587998\n",
            "epoch 49; iter: 200; batch classifier loss: 0.445318; batch adversarial loss: 0.616201\n"
          ],
          "name": "stdout"
        },
        {
          "output_type": "execute_result",
          "data": {
            "text/plain": [
              "<aif360.algorithms.inprocessing.adversarial_debiasing.AdversarialDebiasing at 0x7f1b53105fd0>"
            ]
          },
          "metadata": {
            "tags": []
          },
          "execution_count": 15
        }
      ]
    },
    {
      "cell_type": "code",
      "metadata": {
        "id": "iSVlPz7b0lk6",
        "colab_type": "code",
        "colab": {}
      },
      "source": [
        "# Apply the plain model to test data\n",
        "dataset_debiasing_train = debiased_model.predict(dataset_orig_train)\n",
        "dataset_debiasing_test = debiased_model.predict(dataset_orig_test)"
      ],
      "execution_count": 0,
      "outputs": []
    },
    {
      "cell_type": "code",
      "metadata": {
        "id": "ZmFZ_tyW0lk_",
        "colab_type": "code",
        "colab": {
          "base_uri": "https://localhost:8080/",
          "height": 447
        },
        "outputId": "e4b2943a-4b48-4d64-e415-fac91317625e"
      },
      "source": [
        "# Metrics for the dataset from plain model (without debiasing)\n",
        "display(Markdown(\"#### Plain model - without debiasing - dataset metrics\"))\n",
        "print(\"Train set: Difference in mean outcomes between unprivileged and privileged groups = %f\" % metric_dataset_nodebiasing_train.mean_difference())\n",
        "print(\"Test set: Difference in mean outcomes between unprivileged and privileged groups = %f\" % metric_dataset_nodebiasing_test.mean_difference())\n",
        "\n",
        "# Metrics for the dataset from model with debiasing\n",
        "display(Markdown(\"#### Model - with debiasing - dataset metrics\"))\n",
        "metric_dataset_debiasing_train = BinaryLabelDatasetMetric(dataset_debiasing_train, \n",
        "                                             unprivileged_groups=unprivileged_groups,\n",
        "                                             privileged_groups=privileged_groups)\n",
        "\n",
        "print(\"Train set: Difference in mean outcomes between unprivileged and privileged groups = %f\" % metric_dataset_debiasing_train.mean_difference())\n",
        "\n",
        "metric_dataset_debiasing_test = BinaryLabelDatasetMetric(dataset_debiasing_test, \n",
        "                                             unprivileged_groups=unprivileged_groups,\n",
        "                                             privileged_groups=privileged_groups)\n",
        "\n",
        "print(\"Test set: Difference in mean outcomes between unprivileged and privileged groups = %f\" % metric_dataset_debiasing_test.mean_difference())\n",
        "\n",
        "\n",
        "\n",
        "display(Markdown(\"#### Plain model - without debiasing - classification metrics\"))\n",
        "print(\"Test set: Classification accuracy = %f\" % classified_metric_nodebiasing_test.accuracy())\n",
        "TPR = classified_metric_nodebiasing_test.true_positive_rate()\n",
        "TNR = classified_metric_nodebiasing_test.true_negative_rate()\n",
        "bal_acc_nodebiasing_test = 0.5*(TPR+TNR)\n",
        "print(\"Test set: Balanced classification accuracy = %f\" % bal_acc_nodebiasing_test)\n",
        "print(\"Test set: Disparate impact = %f\" % classified_metric_nodebiasing_test.disparate_impact())\n",
        "print(\"Test set: Equal opportunity difference = %f\" % classified_metric_nodebiasing_test.equal_opportunity_difference())\n",
        "print(\"Test set: Average odds difference = %f\" % classified_metric_nodebiasing_test.average_odds_difference())\n",
        "print(\"Test set: Theil_index = %f\" % classified_metric_nodebiasing_test.theil_index())\n",
        "\n",
        "\n",
        "\n",
        "display(Markdown(\"#### Model - with debiasing - classification metrics\"))\n",
        "classified_metric_debiasing_test = ClassificationMetric(dataset_orig_test, \n",
        "                                                 dataset_debiasing_test,\n",
        "                                                 unprivileged_groups=unprivileged_groups,\n",
        "                                                 privileged_groups=privileged_groups)\n",
        "print(\"Test set: Classification accuracy = %f\" % classified_metric_debiasing_test.accuracy())\n",
        "TPR = classified_metric_debiasing_test.true_positive_rate()\n",
        "TNR = classified_metric_debiasing_test.true_negative_rate()\n",
        "bal_acc_debiasing_test = 0.5*(TPR+TNR)\n",
        "print(\"Test set: Balanced classification accuracy = %f\" % bal_acc_debiasing_test)\n",
        "print(\"Test set: Disparate impact = %f\" % classified_metric_debiasing_test.disparate_impact())\n",
        "print(\"Test set: Equal opportunity difference = %f\" % classified_metric_debiasing_test.equal_opportunity_difference())\n",
        "print(\"Test set: Average odds difference = %f\" % classified_metric_debiasing_test.average_odds_difference())\n",
        "print(\"Test set: Theil_index = %f\" % classified_metric_debiasing_test.theil_index())"
      ],
      "execution_count": 17,
      "outputs": [
        {
          "output_type": "display_data",
          "data": {
            "text/markdown": "#### Plain model - without debiasing - dataset metrics",
            "text/plain": [
              "<IPython.core.display.Markdown object>"
            ]
          },
          "metadata": {
            "tags": []
          }
        },
        {
          "output_type": "stream",
          "text": [
            "Train set: Difference in mean outcomes between unprivileged and privileged groups = -0.235857\n",
            "Test set: Difference in mean outcomes between unprivileged and privileged groups = -0.230351\n"
          ],
          "name": "stdout"
        },
        {
          "output_type": "display_data",
          "data": {
            "text/markdown": "#### Model - with debiasing - dataset metrics",
            "text/plain": [
              "<IPython.core.display.Markdown object>"
            ]
          },
          "metadata": {
            "tags": []
          }
        },
        {
          "output_type": "stream",
          "text": [
            "Train set: Difference in mean outcomes between unprivileged and privileged groups = -0.141247\n",
            "Test set: Difference in mean outcomes between unprivileged and privileged groups = -0.141190\n"
          ],
          "name": "stdout"
        },
        {
          "output_type": "display_data",
          "data": {
            "text/markdown": "#### Plain model - without debiasing - classification metrics",
            "text/plain": [
              "<IPython.core.display.Markdown object>"
            ]
          },
          "metadata": {
            "tags": []
          }
        },
        {
          "output_type": "stream",
          "text": [
            "Test set: Classification accuracy = 0.799495\n",
            "Test set: Balanced classification accuracy = 0.661993\n",
            "Test set: Disparate impact = 0.000000\n",
            "Test set: Equal opportunity difference = -0.476044\n",
            "Test set: Average odds difference = -0.300696\n",
            "Test set: Theil_index = 0.175698\n"
          ],
          "name": "stdout"
        },
        {
          "output_type": "display_data",
          "data": {
            "text/markdown": "#### Model - with debiasing - classification metrics",
            "text/plain": [
              "<IPython.core.display.Markdown object>"
            ]
          },
          "metadata": {
            "tags": []
          }
        },
        {
          "output_type": "stream",
          "text": [
            "Test set: Classification accuracy = 0.796219\n",
            "Test set: Balanced classification accuracy = 0.661236\n",
            "Test set: Disparate impact = 0.313809\n",
            "Test set: Equal opportunity difference = -0.221585\n",
            "Test set: Average odds difference = -0.141107\n",
            "Test set: Theil_index = 0.175921\n"
          ],
          "name": "stdout"
        }
      ]
    },
    {
      "cell_type": "markdown",
      "metadata": {
        "id": "R8wWlrNR0llF",
        "colab_type": "text"
      },
      "source": [
        "\n",
        "    References:\n",
        "    [1] B. H. Zhang, B. Lemoine, and M. Mitchell, \"Mitigating UnwantedBiases with Adversarial Learning,\" \n",
        "    AAAI/ACM Conference on Artificial Intelligence, Ethics, and Society, 2018."
      ]
    },
    {
      "cell_type": "code",
      "metadata": {
        "id": "UgPxmpoW0llG",
        "colab_type": "code",
        "colab": {}
      },
      "source": [
        ""
      ],
      "execution_count": 0,
      "outputs": []
    }
  ]
}