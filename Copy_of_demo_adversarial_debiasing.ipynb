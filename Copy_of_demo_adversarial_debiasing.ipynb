{
  "nbformat": 4,
  "nbformat_minor": 0,
  "metadata": {
    "kernelspec": {
      "name": "python3",
      "display_name": "Python 3"
    },
    "colab": {
      "name": "Copy of demo_adversarial_debiasing.ipynb",
      "provenance": [],
      "collapsed_sections": [],
      "include_colab_link": true
    },
    "accelerator": "GPU"
  },
  "cells": [
    {
      "cell_type": "markdown",
      "metadata": {
        "id": "view-in-github",
        "colab_type": "text"
      },
      "source": [
        "<a href=\"https://colab.research.google.com/github/KirstenSchulz/AIF360/blob/master/Copy_of_demo_adversarial_debiasing.ipynb\" target=\"_parent\"><img src=\"https://colab.research.google.com/assets/colab-badge.svg\" alt=\"Open In Colab\"/></a>"
      ]
    },
    {
      "cell_type": "markdown",
      "metadata": {
        "id": "ie3qi_ieULZ1",
        "colab_type": "text"
      },
      "source": [
        "#Project 1 Identifying Bias and Correcting Fairness\n",
        " by Kirsten Schulz."
      ]
    },
    {
      "cell_type": "markdown",
      "metadata": {
        "id": "RSuVBf4kUl-i",
        "colab_type": "text"
      },
      "source": [
        "##Part 1 Tutorial Summary\n"
      ]
    },
    {
      "cell_type": "code",
      "metadata": {
        "id": "a4MaAPjQVxq4",
        "colab_type": "code",
        "colab": {}
      },
      "source": [
        "#!pip uninstall aif360[all] -y\n",
        "#!ls /usr/local/lib/python3.6/dist-packages/aif*"
      ],
      "execution_count": 0,
      "outputs": []
    },
    {
      "cell_type": "code",
      "metadata": {
        "id": "SNhdVCRlWBeb",
        "colab_type": "code",
        "colab": {}
      },
      "source": [
        "#!pip install 'aif360[all]'"
      ],
      "execution_count": 0,
      "outputs": []
    },
    {
      "cell_type": "markdown",
      "metadata": {
        "id": "lX41A2QeVDJC",
        "colab_type": "text"
      },
      "source": [
        "##Part 2 Exexuting the credit decision pipeline.\n",
        "It detects bias and removes it using the reweighting algorithm. \n",
        "The following code is a copy of the code provided to us from example notebook \"Detecting and mitigating age bias on credit decisions\". Only added a few line to be able to execute in my environment."
      ]
    },
    {
      "cell_type": "code",
      "metadata": {
        "id": "xL0AjVdiX2kt",
        "colab_type": "code",
        "colab": {}
      },
      "source": [
        "# Load all necessary packages\n",
        "import sys\n",
        "sys.path.insert(1, \"../\")  \n",
        "\n",
        "import numpy as np\n",
        "np.random.seed(0)\n",
        "\n",
        "from aif360.datasets import GermanDataset\n",
        "from aif360.metrics import BinaryLabelDatasetMetric\n",
        "from aif360.algorithms.preprocessing import Reweighing\n",
        "from aif360.datasets import BinaryLabelDataset\n",
        "from aif360.metrics import ClassificationMetric\n",
        "from aif360.metrics.utils import compute_boolean_conditioning_vector\n",
        "\n",
        "from aif360.algorithms.preprocessing.optim_preproc_helpers.data_preproc_functions import  load_preproc_data_german\n",
        "\n",
        "from aif360.algorithms.inprocessing.adversarial_debiasing import AdversarialDebiasing\n",
        "\n",
        "from sklearn.linear_model import LogisticRegression\n",
        "from sklearn.preprocessing import StandardScaler, MaxAbsScaler\n",
        "from sklearn.metrics import accuracy_score\n",
        "\n",
        "from IPython.display import Markdown, display\n",
        "import matplotlib.pyplot as plt\n",
        "\n",
        "import tensorflow as tf\n"
      ],
      "execution_count": 0,
      "outputs": []
    },
    {
      "cell_type": "code",
      "metadata": {
        "id": "_ZQsy61zX-lp",
        "colab_type": "code",
        "colab": {
          "base_uri": "https://localhost:8080/",
          "height": 450
        },
        "outputId": "3827cd5b-764d-4bbc-b2b0-61a3fdddb863"
      },
      "source": [
        "!wget https://archive.ics.uci.edu/ml/machine-learning-databases/statlog/german/german.data\n",
        "!wget https://archive.ics.uci.edu/ml/machine-learning-databases/statlog/german/german.doc\n",
        "!sudo cp german.data /usr/local/lib/python3.6/dist-packages/aif360/data/raw/german"
      ],
      "execution_count": 2,
      "outputs": [
        {
          "output_type": "stream",
          "text": [
            "--2020-06-14 10:46:35--  https://archive.ics.uci.edu/ml/machine-learning-databases/statlog/german/german.data\n",
            "Resolving archive.ics.uci.edu (archive.ics.uci.edu)... 128.195.10.252\n",
            "Connecting to archive.ics.uci.edu (archive.ics.uci.edu)|128.195.10.252|:443... connected.\n",
            "HTTP request sent, awaiting response... 200 OK\n",
            "Length: 79793 (78K) [application/x-httpd-php]\n",
            "Saving to: ‘german.data.14’\n",
            "\n",
            "\rgerman.data.14        0%[                    ]       0  --.-KB/s               \rgerman.data.14      100%[===================>]  77.92K  --.-KB/s    in 0.06s   \n",
            "\n",
            "2020-06-14 10:46:36 (1.26 MB/s) - ‘german.data.14’ saved [79793/79793]\n",
            "\n",
            "--2020-06-14 10:46:36--  https://archive.ics.uci.edu/ml/machine-learning-databases/statlog/german/german.doc\n",
            "Resolving archive.ics.uci.edu (archive.ics.uci.edu)... 128.195.10.252\n",
            "Connecting to archive.ics.uci.edu (archive.ics.uci.edu)|128.195.10.252|:443... connected.\n",
            "HTTP request sent, awaiting response... 200 OK\n",
            "Length: 4679 (4.6K) [application/x-httpd-php]\n",
            "Saving to: ‘german.doc.14’\n",
            "\n",
            "german.doc.14       100%[===================>]   4.57K  --.-KB/s    in 0s      \n",
            "\n",
            "2020-06-14 10:46:37 (121 MB/s) - ‘german.doc.14’ saved [4679/4679]\n",
            "\n"
          ],
          "name": "stdout"
        }
      ]
    },
    {
      "cell_type": "markdown",
      "metadata": {
        "id": "YcLy6yfJfZsy",
        "colab_type": "text"
      },
      "source": [
        "#### Load dataset and set options"
      ]
    },
    {
      "cell_type": "code",
      "metadata": {
        "id": "ixsiW33Fa2k1",
        "colab_type": "code",
        "colab": {}
      },
      "source": [
        "dataset_orig = GermanDataset(\n",
        "    protected_attribute_names=['age'],           # this dataset also contains protected\n",
        "                                                 # attribute for \"sex\" which we do not\n",
        "                                                 # consider in this evaluation\n",
        "    privileged_classes=[lambda x: x >= 25],      # age >=25 is considered privileged\n",
        "    features_to_drop=['personal_status', 'sex'] # ignore sex-related attributes\n",
        "\n",
        ")\n",
        "\n",
        "dataset_orig_train, dataset_orig_test = dataset_orig.split([0.7], shuffle=True)\n",
        "\n",
        "privileged_groups = [{'age': 1}]\n",
        "unprivileged_groups = [{'age': 0}]"
      ],
      "execution_count": 0,
      "outputs": []
    },
    {
      "cell_type": "code",
      "metadata": {
        "id": "H5caOIdWbGRl",
        "colab_type": "code",
        "colab": {
          "base_uri": "https://localhost:8080/",
          "height": 113
        },
        "outputId": "03e7f7c5-12d9-413d-a4d6-b5de20cfe57e"
      },
      "source": [
        "metric_orig_train = BinaryLabelDatasetMetric(dataset_orig_train, \n",
        "                                             unprivileged_groups=unprivileged_groups,\n",
        "                                             privileged_groups=privileged_groups)\n",
        "display(Markdown(\"#### Original training dataset\"))\n",
        "print(\"Difference in mean outcomes between unprivileged and privileged groups = %f\" % metric_orig_train.mean_difference())\n"
      ],
      "execution_count": 4,
      "outputs": [
        {
          "output_type": "display_data",
          "data": {
            "text/markdown": "#### Original training dataset",
            "text/plain": [
              "<IPython.core.display.Markdown object>"
            ]
          },
          "metadata": {
            "tags": []
          }
        },
        {
          "output_type": "stream",
          "text": [
            "Difference in mean outcomes between unprivileged and privileged groups = -0.169905\n"
          ],
          "name": "stdout"
        }
      ]
    },
    {
      "cell_type": "code",
      "metadata": {
        "id": "km9cw7Y6bXBd",
        "colab_type": "code",
        "colab": {}
      },
      "source": [
        "RW = Reweighing(unprivileged_groups=unprivileged_groups,\n",
        "                privileged_groups=privileged_groups)\n",
        "dataset_transf_train = RW.fit_transform(dataset_orig_train)"
      ],
      "execution_count": 0,
      "outputs": []
    },
    {
      "cell_type": "code",
      "metadata": {
        "id": "59HrMvhccIUB",
        "colab_type": "code",
        "colab": {
          "base_uri": "https://localhost:8080/",
          "height": 113
        },
        "outputId": "aac74970-e52a-4f19-a737-175bd5b2d7f4"
      },
      "source": [
        "metric_transf_train = BinaryLabelDatasetMetric(dataset_transf_train, \n",
        "                                               unprivileged_groups=unprivileged_groups,\n",
        "                                               privileged_groups=privileged_groups)\n",
        "display(Markdown(\"#### Transformed training dataset\"))\n",
        "print(\"Difference in mean outcomes between unprivileged and privileged groups = %f\" % metric_transf_train.mean_difference())"
      ],
      "execution_count": 6,
      "outputs": [
        {
          "output_type": "display_data",
          "data": {
            "text/markdown": "#### Transformed training dataset",
            "text/plain": [
              "<IPython.core.display.Markdown object>"
            ]
          },
          "metadata": {
            "tags": []
          }
        },
        {
          "output_type": "stream",
          "text": [
            "Difference in mean outcomes between unprivileged and privileged groups = 0.000000\n"
          ],
          "name": "stdout"
        }
      ]
    },
    {
      "cell_type": "markdown",
      "metadata": {
        "id": "3SHIeVYeWMxT",
        "colab_type": "text"
      },
      "source": [
        "Part 2 Findings\n"
      ]
    },
    {
      "cell_type": "markdown",
      "metadata": {
        "id": "nTMm4xApcgjp",
        "colab_type": "text"
      },
      "source": [
        "# **************************** **Important Findings\n",
        "**"
      ]
    },
    {
      "cell_type": "markdown",
      "metadata": {
        "id": "RgfAuRto0ljY",
        "colab_type": "text"
      },
      "source": [
        "#### This notebook demonstrates the use of adversarial debiasing algorithm to learn a fair classifier.\n",
        "Adversarial debiasing [1] is an in-processing technique that learns a classifier to maximize prediction accuracy and simultaneously reduce an adversary's ability to determine the protected attribute from the predictions. This approach leads to a fair classifier as the predictions cannot carry any group discrimination information that the adversary can exploit. We will see how to use this algorithm for learning models with and without fairness constraints and apply them on the Adult dataset."
      ]
    },
    {
      "cell_type": "markdown",
      "metadata": {
        "id": "QnxbkyxORtkb",
        "colab_type": "text"
      },
      "source": [
        "##Part 3 Applying aversarial debiasing\n",
        "Adversarial debiasing is an in-processing technique that reduce an adversary's ability to determine the protected attribute from the predictions. This approach leads to a fair classifier as the predictions cannot carry any group discrimination information that the adversary can exploit. "
      ]
    },
    {
      "cell_type": "markdown",
      "metadata": {
        "id": "xUkY50UyZlLn",
        "colab_type": "text"
      },
      "source": [
        "#### Load dataset and set options\n"
      ]
    },
    {
      "cell_type": "code",
      "metadata": {
        "id": "xSqwtO3LZYme",
        "colab_type": "code",
        "colab": {}
      },
      "source": [
        "dataset_orig = GermanDataset(\n",
        "    protected_attribute_names=['age'],           # this dataset also contains protected\n",
        "                                                 # attribute for \"sex\" which we do not\n",
        "                                                 # consider in this evaluation\n",
        "    privileged_classes=[lambda x: x >= 30],      # age >=25 is considered privileged\n",
        "    features_to_drop=['personal_status', 'sex'] # ignore sex-related attributes\n",
        "\n",
        ")\n",
        "\n",
        "dataset_orig_train, dataset_orig_test = dataset_orig.split([0.6], shuffle=True)\n",
        "\n",
        "privileged_groups = [{'age': 1}]\n",
        "unprivileged_groups = [{'age': 0}]"
      ],
      "execution_count": 0,
      "outputs": []
    },
    {
      "cell_type": "code",
      "metadata": {
        "id": "2Ikt8kYW0ljy",
        "colab_type": "code",
        "outputId": "a4c7ed2b-c6b0-4c70-feba-8860eb04e87c",
        "colab": {
          "base_uri": "https://localhost:8080/",
          "height": 323
        }
      },
      "source": [
        "# print out some labels, names, etc.\n",
        "display(Markdown(\"#### Training Dataset shape\"))\n",
        "print(dataset_orig_train.features.shape)\n",
        "display(Markdown(\"#### Favorable and unfavorable labels\"))\n",
        "print(dataset_orig_train.favorable_label, dataset_orig_train.unfavorable_label)\n",
        "display(Markdown(\"#### Protected attribute names\"))\n",
        "print(dataset_orig_train.protected_attribute_names)\n",
        "display(Markdown(\"#### Privileged and unprivileged protected attribute values\"))\n",
        "print(dataset_orig_train.privileged_protected_attributes, \n",
        "      dataset_orig_train.unprivileged_protected_attributes)\n",
        "display(Markdown(\"#### Dataset feature names\"))\n",
        "print(dataset_orig_train.feature_names)"
      ],
      "execution_count": 8,
      "outputs": [
        {
          "output_type": "display_data",
          "data": {
            "text/markdown": "#### Training Dataset shape",
            "text/plain": [
              "<IPython.core.display.Markdown object>"
            ]
          },
          "metadata": {
            "tags": []
          }
        },
        {
          "output_type": "stream",
          "text": [
            "(600, 57)\n"
          ],
          "name": "stdout"
        },
        {
          "output_type": "display_data",
          "data": {
            "text/markdown": "#### Favorable and unfavorable labels",
            "text/plain": [
              "<IPython.core.display.Markdown object>"
            ]
          },
          "metadata": {
            "tags": []
          }
        },
        {
          "output_type": "stream",
          "text": [
            "1.0 2.0\n"
          ],
          "name": "stdout"
        },
        {
          "output_type": "display_data",
          "data": {
            "text/markdown": "#### Protected attribute names",
            "text/plain": [
              "<IPython.core.display.Markdown object>"
            ]
          },
          "metadata": {
            "tags": []
          }
        },
        {
          "output_type": "stream",
          "text": [
            "['age']\n"
          ],
          "name": "stdout"
        },
        {
          "output_type": "display_data",
          "data": {
            "text/markdown": "#### Privileged and unprivileged protected attribute values",
            "text/plain": [
              "<IPython.core.display.Markdown object>"
            ]
          },
          "metadata": {
            "tags": []
          }
        },
        {
          "output_type": "stream",
          "text": [
            "[array([1.])] [array([0.])]\n"
          ],
          "name": "stdout"
        },
        {
          "output_type": "display_data",
          "data": {
            "text/markdown": "#### Dataset feature names",
            "text/plain": [
              "<IPython.core.display.Markdown object>"
            ]
          },
          "metadata": {
            "tags": []
          }
        },
        {
          "output_type": "stream",
          "text": [
            "['month', 'credit_amount', 'investment_as_income_percentage', 'residence_since', 'age', 'number_of_credits', 'people_liable_for', 'status=A11', 'status=A12', 'status=A13', 'status=A14', 'credit_history=A30', 'credit_history=A31', 'credit_history=A32', 'credit_history=A33', 'credit_history=A34', 'purpose=A40', 'purpose=A41', 'purpose=A410', 'purpose=A42', 'purpose=A43', 'purpose=A44', 'purpose=A45', 'purpose=A46', 'purpose=A48', 'purpose=A49', 'savings=A61', 'savings=A62', 'savings=A63', 'savings=A64', 'savings=A65', 'employment=A71', 'employment=A72', 'employment=A73', 'employment=A74', 'employment=A75', 'other_debtors=A101', 'other_debtors=A102', 'other_debtors=A103', 'property=A121', 'property=A122', 'property=A123', 'property=A124', 'installment_plans=A141', 'installment_plans=A142', 'installment_plans=A143', 'housing=A151', 'housing=A152', 'housing=A153', 'skill_level=A171', 'skill_level=A172', 'skill_level=A173', 'skill_level=A174', 'telephone=A191', 'telephone=A192', 'foreign_worker=A201', 'foreign_worker=A202']\n"
          ],
          "name": "stdout"
        }
      ]
    },
    {
      "cell_type": "markdown",
      "metadata": {
        "id": "lijcz2nJ0lj5",
        "colab_type": "text"
      },
      "source": [
        "#### Metric for original tet data (metric for training data was calculated in Part 2"
      ]
    },
    {
      "cell_type": "code",
      "metadata": {
        "id": "1PG3IAGC0lj7",
        "colab_type": "code",
        "outputId": "851cea43-a048-44e3-abbb-2bf7297432b9",
        "colab": {
          "base_uri": "https://localhost:8080/",
          "height": 131
        }
      },
      "source": [
        "# Metric for the original dataset\n",
        "metric_orig_train = BinaryLabelDatasetMetric(dataset_orig_train, \n",
        "                                             unprivileged_groups=unprivileged_groups,\n",
        "                                             privileged_groups=privileged_groups)\n",
        "display(Markdown(\"#### Original training dataset\"))\n",
        "print(\"Train set: Difference in mean outcomes between unprivileged and privileged groups = %f\" % metric_orig_train.mean_difference())\n",
        "metric_orig_test = BinaryLabelDatasetMetric(dataset_orig_test, \n",
        "                                             unprivileged_groups=unprivileged_groups,\n",
        "                                             privileged_groups=privileged_groups)\n",
        "print(\"Test set: Difference in mean outcomes between unprivileged and privileged groups = %f\" % metric_orig_test.mean_difference())"
      ],
      "execution_count": 9,
      "outputs": [
        {
          "output_type": "display_data",
          "data": {
            "text/markdown": "#### Original training dataset",
            "text/plain": [
              "<IPython.core.display.Markdown object>"
            ]
          },
          "metadata": {
            "tags": []
          }
        },
        {
          "output_type": "stream",
          "text": [
            "Train set: Difference in mean outcomes between unprivileged and privileged groups = -0.078457\n",
            "Test set: Difference in mean outcomes between unprivileged and privileged groups = -0.159340\n"
          ],
          "name": "stdout"
        }
      ]
    },
    {
      "cell_type": "code",
      "metadata": {
        "id": "zTqszdLt0lkB",
        "colab_type": "code",
        "outputId": "7437196c-a71b-45e8-8100-8b8d719c659a",
        "colab": {
          "base_uri": "https://localhost:8080/",
          "height": 131
        }
      },
      "source": [
        "min_max_scaler = MaxAbsScaler()\n",
        "dataset_orig_train.features = min_max_scaler.fit_transform(dataset_orig_train.features)\n",
        "dataset_orig_test.features = min_max_scaler.transform(dataset_orig_test.features)\n",
        "metric_scaled_train = BinaryLabelDatasetMetric(dataset_orig_train, \n",
        "                             unprivileged_groups=unprivileged_groups,\n",
        "                             privileged_groups=privileged_groups)\n",
        "display(Markdown(\"#### Scaled dataset - Verify that the scaling does not affect the group label statistics\"))\n",
        "print(\"Train set: Difference in mean outcomes between unprivileged and privileged groups = %f\" % metric_scaled_train.mean_difference())\n",
        "metric_scaled_test = BinaryLabelDatasetMetric(dataset_orig_test, \n",
        "                             unprivileged_groups=unprivileged_groups,\n",
        "                             privileged_groups=privileged_groups)\n",
        "print(\"Test set: Difference in mean outcomes between unprivileged and privileged groups = %f\" % metric_scaled_test.mean_difference())\n"
      ],
      "execution_count": 10,
      "outputs": [
        {
          "output_type": "display_data",
          "data": {
            "text/markdown": "#### Scaled dataset - Verify that the scaling does not affect the group label statistics",
            "text/plain": [
              "<IPython.core.display.Markdown object>"
            ]
          },
          "metadata": {
            "tags": []
          }
        },
        {
          "output_type": "stream",
          "text": [
            "Train set: Difference in mean outcomes between unprivileged and privileged groups = -0.078457\n",
            "Test set: Difference in mean outcomes between unprivileged and privileged groups = -0.159340\n"
          ],
          "name": "stdout"
        }
      ]
    },
    {
      "cell_type": "markdown",
      "metadata": {
        "id": "O4XxuizL0lkI",
        "colab_type": "text"
      },
      "source": [
        "### Learn plan classifier without debiasing"
      ]
    },
    {
      "cell_type": "code",
      "metadata": {
        "id": "kwL8R-3A0lkJ",
        "colab_type": "code",
        "colab": {}
      },
      "source": [
        "# Load post-processing algorithm that equalizes the odds\n",
        "# Learn parameters with debias set to False\n",
        "sess = tf.Session()\n",
        "plain_model = AdversarialDebiasing(privileged_groups = privileged_groups,\n",
        "                          unprivileged_groups = unprivileged_groups,\n",
        "                          scope_name='plain_classifier',\n",
        "                          debias=False,\n",
        "                          sess=sess)"
      ],
      "execution_count": 0,
      "outputs": []
    },
    {
      "cell_type": "code",
      "metadata": {
        "scrolled": true,
        "id": "ala0uK3w0lkV",
        "colab_type": "code",
        "outputId": "1f88daf5-5cc5-4531-9175-a5142b054fe8",
        "colab": {
          "base_uri": "https://localhost:8080/",
          "height": 1000
        }
      },
      "source": [
        "plain_model.fit(dataset_orig_train)"
      ],
      "execution_count": 12,
      "outputs": [
        {
          "output_type": "stream",
          "text": [
            "WARNING:tensorflow:From /usr/local/lib/python3.6/dist-packages/aif360/algorithms/inprocessing/adversarial_debiasing.py:137: The name tf.variable_scope is deprecated. Please use tf.compat.v1.variable_scope instead.\n",
            "\n",
            "WARNING:tensorflow:From /usr/local/lib/python3.6/dist-packages/aif360/algorithms/inprocessing/adversarial_debiasing.py:141: The name tf.placeholder is deprecated. Please use tf.compat.v1.placeholder instead.\n",
            "\n",
            "WARNING:tensorflow:From /usr/local/lib/python3.6/dist-packages/aif360/algorithms/inprocessing/adversarial_debiasing.py:84: The name tf.get_variable is deprecated. Please use tf.compat.v1.get_variable instead.\n",
            "\n",
            "WARNING:tensorflow:\n",
            "The TensorFlow contrib module will not be included in TensorFlow 2.0.\n",
            "For more information, please see:\n",
            "  * https://github.com/tensorflow/community/blob/master/rfcs/20180907-contrib-sunset.md\n",
            "  * https://github.com/tensorflow/addons\n",
            "  * https://github.com/tensorflow/io (for I/O related ops)\n",
            "If you depend on functionality not listed there, please file an issue.\n",
            "\n",
            "WARNING:tensorflow:From /usr/local/lib/python3.6/dist-packages/aif360/algorithms/inprocessing/adversarial_debiasing.py:89: calling dropout (from tensorflow.python.ops.nn_ops) with keep_prob is deprecated and will be removed in a future version.\n",
            "Instructions for updating:\n",
            "Please use `rate` instead of `keep_prob`. Rate should be set to `rate = 1 - keep_prob`.\n",
            "WARNING:tensorflow:From /usr/local/lib/python3.6/dist-packages/tensorflow_core/python/ops/nn_impl.py:183: where (from tensorflow.python.ops.array_ops) is deprecated and will be removed in a future version.\n",
            "Instructions for updating:\n",
            "Use tf.where in 2.0, which has the same broadcast rule as np.where\n",
            "WARNING:tensorflow:From /usr/local/lib/python3.6/dist-packages/aif360/algorithms/inprocessing/adversarial_debiasing.py:159: The name tf.train.exponential_decay is deprecated. Please use tf.compat.v1.train.exponential_decay instead.\n",
            "\n",
            "WARNING:tensorflow:From /usr/local/lib/python3.6/dist-packages/aif360/algorithms/inprocessing/adversarial_debiasing.py:161: The name tf.train.AdamOptimizer is deprecated. Please use tf.compat.v1.train.AdamOptimizer instead.\n",
            "\n",
            "WARNING:tensorflow:From /usr/local/lib/python3.6/dist-packages/aif360/algorithms/inprocessing/adversarial_debiasing.py:165: The name tf.trainable_variables is deprecated. Please use tf.compat.v1.trainable_variables instead.\n",
            "\n",
            "WARNING:tensorflow:From /usr/local/lib/python3.6/dist-packages/aif360/algorithms/inprocessing/adversarial_debiasing.py:187: The name tf.global_variables_initializer is deprecated. Please use tf.compat.v1.global_variables_initializer instead.\n",
            "\n",
            "WARNING:tensorflow:From /usr/local/lib/python3.6/dist-packages/aif360/algorithms/inprocessing/adversarial_debiasing.py:188: The name tf.local_variables_initializer is deprecated. Please use tf.compat.v1.local_variables_initializer instead.\n",
            "\n",
            "epoch 0; iter: 0; batch classifier loss: 0.671214\n",
            "epoch 1; iter: 0; batch classifier loss: 0.536403\n",
            "epoch 2; iter: 0; batch classifier loss: 0.537950\n",
            "epoch 3; iter: 0; batch classifier loss: 0.516291\n",
            "epoch 4; iter: 0; batch classifier loss: 0.507714\n",
            "epoch 5; iter: 0; batch classifier loss: 0.468882\n",
            "epoch 6; iter: 0; batch classifier loss: 0.522880\n",
            "epoch 7; iter: 0; batch classifier loss: 0.524104\n",
            "epoch 8; iter: 0; batch classifier loss: 0.493662\n",
            "epoch 9; iter: 0; batch classifier loss: 0.475912\n",
            "epoch 10; iter: 0; batch classifier loss: 0.500915\n",
            "epoch 11; iter: 0; batch classifier loss: 0.445097\n",
            "epoch 12; iter: 0; batch classifier loss: 0.440458\n",
            "epoch 13; iter: 0; batch classifier loss: 0.496094\n",
            "epoch 14; iter: 0; batch classifier loss: 0.482972\n",
            "epoch 15; iter: 0; batch classifier loss: 0.486762\n",
            "epoch 16; iter: 0; batch classifier loss: 0.448134\n",
            "epoch 17; iter: 0; batch classifier loss: 0.458354\n",
            "epoch 18; iter: 0; batch classifier loss: 0.377416\n",
            "epoch 19; iter: 0; batch classifier loss: 0.402523\n",
            "epoch 20; iter: 0; batch classifier loss: 0.390058\n",
            "epoch 21; iter: 0; batch classifier loss: 0.397019\n",
            "epoch 22; iter: 0; batch classifier loss: 0.416128\n",
            "epoch 23; iter: 0; batch classifier loss: 0.389897\n",
            "epoch 24; iter: 0; batch classifier loss: 0.463645\n",
            "epoch 25; iter: 0; batch classifier loss: 0.440098\n",
            "epoch 26; iter: 0; batch classifier loss: 0.419349\n",
            "epoch 27; iter: 0; batch classifier loss: 0.410847\n",
            "epoch 28; iter: 0; batch classifier loss: 0.399843\n",
            "epoch 29; iter: 0; batch classifier loss: 0.395396\n",
            "epoch 30; iter: 0; batch classifier loss: 0.383149\n",
            "epoch 31; iter: 0; batch classifier loss: 0.357942\n",
            "epoch 32; iter: 0; batch classifier loss: 0.386045\n",
            "epoch 33; iter: 0; batch classifier loss: 0.351730\n",
            "epoch 34; iter: 0; batch classifier loss: 0.360051\n",
            "epoch 35; iter: 0; batch classifier loss: 0.398071\n",
            "epoch 36; iter: 0; batch classifier loss: 0.375769\n",
            "epoch 37; iter: 0; batch classifier loss: 0.407708\n",
            "epoch 38; iter: 0; batch classifier loss: 0.389316\n",
            "epoch 39; iter: 0; batch classifier loss: 0.380363\n",
            "epoch 40; iter: 0; batch classifier loss: 0.369908\n",
            "epoch 41; iter: 0; batch classifier loss: 0.401940\n",
            "epoch 42; iter: 0; batch classifier loss: 0.329296\n",
            "epoch 43; iter: 0; batch classifier loss: 0.359456\n",
            "epoch 44; iter: 0; batch classifier loss: 0.318574\n",
            "epoch 45; iter: 0; batch classifier loss: 0.340324\n",
            "epoch 46; iter: 0; batch classifier loss: 0.301991\n",
            "epoch 47; iter: 0; batch classifier loss: 0.367854\n",
            "epoch 48; iter: 0; batch classifier loss: 0.391613\n",
            "epoch 49; iter: 0; batch classifier loss: 0.348215\n"
          ],
          "name": "stdout"
        },
        {
          "output_type": "execute_result",
          "data": {
            "text/plain": [
              "<aif360.algorithms.inprocessing.adversarial_debiasing.AdversarialDebiasing at 0x7fb57e1bfa90>"
            ]
          },
          "metadata": {
            "tags": []
          },
          "execution_count": 12
        }
      ]
    },
    {
      "cell_type": "code",
      "metadata": {
        "id": "9YFn1bc_0lkc",
        "colab_type": "code",
        "colab": {}
      },
      "source": [
        "# Apply the plain model to test data\n",
        "dataset_nodebiasing_train = plain_model.predict(dataset_orig_train)\n",
        "dataset_nodebiasing_test = plain_model.predict(dataset_orig_test)"
      ],
      "execution_count": 0,
      "outputs": []
    },
    {
      "cell_type": "code",
      "metadata": {
        "id": "vAOtEg4e0lkh",
        "colab_type": "code",
        "outputId": "73f63c5b-f7fe-43f7-aae6-055db6e61198",
        "colab": {
          "base_uri": "https://localhost:8080/",
          "height": 255
        }
      },
      "source": [
        "# Metrics for the dataset from plain model (without debiasing)\n",
        "display(Markdown(\"#### Plain model - without debiasing - dataset metrics\"))\n",
        "metric_dataset_nodebiasing_train = BinaryLabelDatasetMetric(dataset_nodebiasing_train, \n",
        "                                             unprivileged_groups=unprivileged_groups,\n",
        "                                             privileged_groups=privileged_groups)\n",
        "\n",
        "print(\"Train set: Difference in mean predicted outcomes between unprivileged and privileged groups = %f\" % metric_dataset_nodebiasing_train.mean_difference())\n",
        "\n",
        "metric_dataset_nodebiasing_test = BinaryLabelDatasetMetric(dataset_nodebiasing_test, \n",
        "                                             unprivileged_groups=unprivileged_groups,\n",
        "                                             privileged_groups=privileged_groups)\n",
        "\n",
        "print(\"Test set: Difference in mean predicted outcomes between unprivileged and privileged groups = %f\" % metric_dataset_nodebiasing_test.mean_difference())\n",
        "\n",
        "display(Markdown(\"#### Plain model - without debiasing - classification metrics\"))\n",
        "classified_metric_nodebiasing_test = ClassificationMetric(dataset_orig_test, \n",
        "                                                 dataset_nodebiasing_test,\n",
        "                                                 unprivileged_groups=unprivileged_groups,\n",
        "                                                 privileged_groups=privileged_groups)\n",
        "print(\"Test set: Classification accuracy = %f\" % classified_metric_nodebiasing_test.accuracy())\n",
        "TPR = classified_metric_nodebiasing_test.true_positive_rate()\n",
        "TNR = classified_metric_nodebiasing_test.true_negative_rate()\n",
        "bal_acc_nodebiasing_test = 0.5*(TPR+TNR)\n",
        "print(\"Test set: Balanced classification accuracy = %f\" % bal_acc_nodebiasing_test)\n",
        "print(\"Test set: Disparate impact = %f\" % classified_metric_nodebiasing_test.disparate_impact())\n",
        "print(\"Test set: Equal opportunity difference = %f\" % classified_metric_nodebiasing_test.equal_opportunity_difference())\n",
        "print(\"Test set: Average odds difference = %f\" % classified_metric_nodebiasing_test.average_odds_difference())\n",
        "print(\"Test set: Theil_index = %f\" % classified_metric_nodebiasing_test.theil_index())"
      ],
      "execution_count": 14,
      "outputs": [
        {
          "output_type": "display_data",
          "data": {
            "text/markdown": "#### Plain model - without debiasing - dataset metrics",
            "text/plain": [
              "<IPython.core.display.Markdown object>"
            ]
          },
          "metadata": {
            "tags": []
          }
        },
        {
          "output_type": "stream",
          "text": [
            "Train set: Difference in mean predicted outcomes between unprivileged and privileged groups = -0.067344\n",
            "Test set: Difference in mean predicted outcomes between unprivileged and privileged groups = -0.147563\n"
          ],
          "name": "stdout"
        },
        {
          "output_type": "display_data",
          "data": {
            "text/markdown": "#### Plain model - without debiasing - classification metrics",
            "text/plain": [
              "<IPython.core.display.Markdown object>"
            ]
          },
          "metadata": {
            "tags": []
          }
        },
        {
          "output_type": "stream",
          "text": [
            "Test set: Classification accuracy = 0.725000\n",
            "Test set: Balanced classification accuracy = 0.663337\n",
            "Test set: Disparate impact = 0.818770\n",
            "Test set: Equal opportunity difference = -0.055758\n",
            "Test set: Average odds difference = -0.109869\n",
            "Test set: Theil_index = 0.133592\n"
          ],
          "name": "stdout"
        }
      ]
    },
    {
      "cell_type": "markdown",
      "metadata": {
        "id": "jsohGw3D0lkn",
        "colab_type": "text"
      },
      "source": [
        "### Apply in-processing algorithm based on adversarial learning"
      ]
    },
    {
      "cell_type": "code",
      "metadata": {
        "id": "LlM9aG_w0lko",
        "colab_type": "code",
        "colab": {}
      },
      "source": [
        "sess.close()\n",
        "tf.reset_default_graph()\n",
        "sess = tf.Session()"
      ],
      "execution_count": 0,
      "outputs": []
    },
    {
      "cell_type": "code",
      "metadata": {
        "id": "nSnWzKHM0lkv",
        "colab_type": "code",
        "colab": {}
      },
      "source": [
        "# Learn parameters with debias set to True\n",
        "debiased_model = AdversarialDebiasing(privileged_groups = privileged_groups,\n",
        "                          unprivileged_groups = unprivileged_groups,\n",
        "                          scope_name='debiased_classifier',\n",
        "                          debias=True,\n",
        "                          #batch_size=50,\n",
        "                          #classifier_num_hidden_units=200,\n",
        "                          sess=sess)"
      ],
      "execution_count": 0,
      "outputs": []
    },
    {
      "cell_type": "code",
      "metadata": {
        "scrolled": true,
        "id": "wqPUOszv0lk1",
        "colab_type": "code",
        "outputId": "37e36f51-677c-4a9c-9b5e-c358ab19bf6c",
        "colab": {
          "base_uri": "https://localhost:8080/",
          "height": 880
        }
      },
      "source": [
        "debiased_model.fit(dataset_orig_train)"
      ],
      "execution_count": 17,
      "outputs": [
        {
          "output_type": "stream",
          "text": [
            "epoch 0; iter: 0; batch classifier loss: 0.867398; batch adversarial loss: 0.684761\n",
            "epoch 1; iter: 0; batch classifier loss: 0.695902; batch adversarial loss: 0.685513\n",
            "epoch 2; iter: 0; batch classifier loss: 0.596855; batch adversarial loss: 0.681464\n",
            "epoch 3; iter: 0; batch classifier loss: 0.564710; batch adversarial loss: 0.677372\n",
            "epoch 4; iter: 0; batch classifier loss: 0.528753; batch adversarial loss: 0.682609\n",
            "epoch 5; iter: 0; batch classifier loss: 0.526863; batch adversarial loss: 0.678734\n",
            "epoch 6; iter: 0; batch classifier loss: 0.517595; batch adversarial loss: 0.685336\n",
            "epoch 7; iter: 0; batch classifier loss: 0.536575; batch adversarial loss: 0.683176\n",
            "epoch 8; iter: 0; batch classifier loss: 0.592748; batch adversarial loss: 0.683826\n",
            "epoch 9; iter: 0; batch classifier loss: 0.481071; batch adversarial loss: 0.651167\n",
            "epoch 10; iter: 0; batch classifier loss: 0.498162; batch adversarial loss: 0.666030\n",
            "epoch 11; iter: 0; batch classifier loss: 0.524066; batch adversarial loss: 0.681267\n",
            "epoch 12; iter: 0; batch classifier loss: 0.518542; batch adversarial loss: 0.678495\n",
            "epoch 13; iter: 0; batch classifier loss: 0.472908; batch adversarial loss: 0.669097\n",
            "epoch 14; iter: 0; batch classifier loss: 0.464816; batch adversarial loss: 0.653094\n",
            "epoch 15; iter: 0; batch classifier loss: 0.421425; batch adversarial loss: 0.669732\n",
            "epoch 16; iter: 0; batch classifier loss: 0.515068; batch adversarial loss: 0.663689\n",
            "epoch 17; iter: 0; batch classifier loss: 0.403130; batch adversarial loss: 0.654832\n",
            "epoch 18; iter: 0; batch classifier loss: 0.441689; batch adversarial loss: 0.662580\n",
            "epoch 19; iter: 0; batch classifier loss: 0.420677; batch adversarial loss: 0.665018\n",
            "epoch 20; iter: 0; batch classifier loss: 0.499884; batch adversarial loss: 0.659404\n",
            "epoch 21; iter: 0; batch classifier loss: 0.403523; batch adversarial loss: 0.663722\n",
            "epoch 22; iter: 0; batch classifier loss: 0.410325; batch adversarial loss: 0.677043\n",
            "epoch 23; iter: 0; batch classifier loss: 0.427298; batch adversarial loss: 0.670175\n",
            "epoch 24; iter: 0; batch classifier loss: 0.459385; batch adversarial loss: 0.652221\n",
            "epoch 25; iter: 0; batch classifier loss: 0.439031; batch adversarial loss: 0.675704\n",
            "epoch 26; iter: 0; batch classifier loss: 0.463631; batch adversarial loss: 0.658534\n",
            "epoch 27; iter: 0; batch classifier loss: 0.454132; batch adversarial loss: 0.669676\n",
            "epoch 28; iter: 0; batch classifier loss: 0.447508; batch adversarial loss: 0.676750\n",
            "epoch 29; iter: 0; batch classifier loss: 0.366084; batch adversarial loss: 0.648031\n",
            "epoch 30; iter: 0; batch classifier loss: 0.403019; batch adversarial loss: 0.659624\n",
            "epoch 31; iter: 0; batch classifier loss: 0.389650; batch adversarial loss: 0.665757\n",
            "epoch 32; iter: 0; batch classifier loss: 0.436652; batch adversarial loss: 0.667974\n",
            "epoch 33; iter: 0; batch classifier loss: 0.388795; batch adversarial loss: 0.637918\n",
            "epoch 34; iter: 0; batch classifier loss: 0.352045; batch adversarial loss: 0.663836\n",
            "epoch 35; iter: 0; batch classifier loss: 0.448626; batch adversarial loss: 0.665076\n",
            "epoch 36; iter: 0; batch classifier loss: 0.380497; batch adversarial loss: 0.670140\n",
            "epoch 37; iter: 0; batch classifier loss: 0.398295; batch adversarial loss: 0.659218\n",
            "epoch 38; iter: 0; batch classifier loss: 0.428581; batch adversarial loss: 0.656557\n",
            "epoch 39; iter: 0; batch classifier loss: 0.400176; batch adversarial loss: 0.663850\n",
            "epoch 40; iter: 0; batch classifier loss: 0.356024; batch adversarial loss: 0.620308\n",
            "epoch 41; iter: 0; batch classifier loss: 0.304399; batch adversarial loss: 0.663223\n",
            "epoch 42; iter: 0; batch classifier loss: 0.428482; batch adversarial loss: 0.663327\n",
            "epoch 43; iter: 0; batch classifier loss: 0.367754; batch adversarial loss: 0.659352\n",
            "epoch 44; iter: 0; batch classifier loss: 0.429540; batch adversarial loss: 0.634350\n",
            "epoch 45; iter: 0; batch classifier loss: 0.375717; batch adversarial loss: 0.636750\n",
            "epoch 46; iter: 0; batch classifier loss: 0.372572; batch adversarial loss: 0.664264\n",
            "epoch 47; iter: 0; batch classifier loss: 0.345835; batch adversarial loss: 0.679242\n",
            "epoch 48; iter: 0; batch classifier loss: 0.421451; batch adversarial loss: 0.657184\n",
            "epoch 49; iter: 0; batch classifier loss: 0.318701; batch adversarial loss: 0.614243\n"
          ],
          "name": "stdout"
        },
        {
          "output_type": "execute_result",
          "data": {
            "text/plain": [
              "<aif360.algorithms.inprocessing.adversarial_debiasing.AdversarialDebiasing at 0x7fb574a87860>"
            ]
          },
          "metadata": {
            "tags": []
          },
          "execution_count": 17
        }
      ]
    },
    {
      "cell_type": "code",
      "metadata": {
        "id": "iSVlPz7b0lk6",
        "colab_type": "code",
        "colab": {}
      },
      "source": [
        "# Apply the plain model to test data\n",
        "dataset_debiasing_train = debiased_model.predict(dataset_orig_train)\n",
        "dataset_debiasing_test = debiased_model.predict(dataset_orig_test)"
      ],
      "execution_count": 0,
      "outputs": []
    },
    {
      "cell_type": "code",
      "metadata": {
        "id": "ZmFZ_tyW0lk_",
        "colab_type": "code",
        "outputId": "2a92ccdb-45d8-474a-db1c-bf97bc1e225a",
        "colab": {
          "base_uri": "https://localhost:8080/",
          "height": 466
        }
      },
      "source": [
        "# Metrics for the dataset from plain model (without debiasing)\n",
        "display(Markdown(\"#### Plain model - without debiasing - dataset metrics\"))\n",
        "print(\"Train set: Difference in mean predicted outcomes between unprivileged and privileged groups = %f\" % metric_dataset_nodebiasing_train.mean_difference())\n",
        "print(\"Test set: Difference in mean predicted outcomes between unprivileged and privileged groups = %f\" % metric_dataset_nodebiasing_test.mean_difference())\n",
        "\n",
        "# Metrics for the dataset from model with debiasing\n",
        "display(Markdown(\"#### Model - with debiasing - dataset metrics\"))\n",
        "metric_dataset_debiasing_train = BinaryLabelDatasetMetric(dataset_debiasing_train, \n",
        "                                             unprivileged_groups=unprivileged_groups,\n",
        "                                             privileged_groups=privileged_groups)\n",
        "\n",
        "print(\"Train set: Difference in mean predicted outcomes between unprivileged and privileged groups = %f\" % metric_dataset_debiasing_train.mean_difference())\n",
        "\n",
        "metric_dataset_debiasing_test = BinaryLabelDatasetMetric(dataset_debiasing_test, \n",
        "                                             unprivileged_groups=unprivileged_groups,\n",
        "                                             privileged_groups=privileged_groups)\n",
        "\n",
        "print(\"Test set: Difference in mean predicted outcomes between unprivileged and privileged groups = %f\" % metric_dataset_debiasing_test.mean_difference())\n",
        "\n",
        "\n",
        "\n",
        "display(Markdown(\"#### Plain model - without debiasing - classification metrics\"))\n",
        "print(\"Test set: Classification accuracy = %f\" % classified_metric_nodebiasing_test.accuracy())\n",
        "TPR = classified_metric_nodebiasing_test.true_positive_rate()\n",
        "TNR = classified_metric_nodebiasing_test.true_negative_rate()\n",
        "bal_acc_nodebiasing_test = 0.5*(TPR+TNR)\n",
        "print(\"Test set: Balanced classification accuracy = %f\" % bal_acc_nodebiasing_test)\n",
        "print(\"Test set: Disparate impact = %f\" % classified_metric_nodebiasing_test.disparate_impact())\n",
        "print(\"Test set: Equal opportunity difference = %f\" % classified_metric_nodebiasing_test.equal_opportunity_difference())\n",
        "print(\"Test set: Average odds difference = %f\" % classified_metric_nodebiasing_test.average_odds_difference())\n",
        "print(\"Test set: Theil_index = %f\" % classified_metric_nodebiasing_test.theil_index())\n",
        "\n",
        "\n",
        "\n",
        "display(Markdown(\"#### Model - with debiasing - classification metrics\"))\n",
        "classified_metric_debiasing_test = ClassificationMetric(dataset_orig_test, \n",
        "                                                 dataset_debiasing_test,\n",
        "                                                 unprivileged_groups=unprivileged_groups,\n",
        "                                                 privileged_groups=privileged_groups)\n",
        "print(\"Test set: Classification accuracy = %f\" % classified_metric_debiasing_test.accuracy())\n",
        "TPR = classified_metric_debiasing_test.true_positive_rate()\n",
        "TNR = classified_metric_debiasing_test.true_negative_rate()\n",
        "bal_acc_debiasing_test = 0.5*(TPR+TNR)\n",
        "print(\"Test set: Balanced classification accuracy = %f\" % bal_acc_debiasing_test)\n",
        "print(\"Test set: Disparate impact = %f\" % classified_metric_debiasing_test.disparate_impact())\n",
        "print(\"Test set: Equal opportunity difference = %f\" % classified_metric_debiasing_test.equal_opportunity_difference())\n",
        "print(\"Test set: Average odds difference = %f\" % classified_metric_debiasing_test.average_odds_difference())\n",
        "print(\"Test set: Theil_index = %f\" % classified_metric_debiasing_test.theil_index())"
      ],
      "execution_count": 19,
      "outputs": [
        {
          "output_type": "display_data",
          "data": {
            "text/markdown": "#### Plain model - without debiasing - dataset metrics",
            "text/plain": [
              "<IPython.core.display.Markdown object>"
            ]
          },
          "metadata": {
            "tags": []
          }
        },
        {
          "output_type": "stream",
          "text": [
            "Train set: Difference in mean predicted outcomes between unprivileged and privileged groups = -0.067344\n",
            "Test set: Difference in mean predicted outcomes between unprivileged and privileged groups = -0.147563\n"
          ],
          "name": "stdout"
        },
        {
          "output_type": "display_data",
          "data": {
            "text/markdown": "#### Model - with debiasing - dataset metrics",
            "text/plain": [
              "<IPython.core.display.Markdown object>"
            ]
          },
          "metadata": {
            "tags": []
          }
        },
        {
          "output_type": "stream",
          "text": [
            "Train set: Difference in mean predicted outcomes between unprivileged and privileged groups = -0.044168\n",
            "Test set: Difference in mean predicted outcomes between unprivileged and privileged groups = -0.120997\n"
          ],
          "name": "stdout"
        },
        {
          "output_type": "display_data",
          "data": {
            "text/markdown": "#### Plain model - without debiasing - classification metrics",
            "text/plain": [
              "<IPython.core.display.Markdown object>"
            ]
          },
          "metadata": {
            "tags": []
          }
        },
        {
          "output_type": "stream",
          "text": [
            "Test set: Classification accuracy = 0.725000\n",
            "Test set: Balanced classification accuracy = 0.663337\n",
            "Test set: Disparate impact = 0.818770\n",
            "Test set: Equal opportunity difference = -0.055758\n",
            "Test set: Average odds difference = -0.109869\n",
            "Test set: Theil_index = 0.133592\n"
          ],
          "name": "stdout"
        },
        {
          "output_type": "display_data",
          "data": {
            "text/markdown": "#### Model - with debiasing - classification metrics",
            "text/plain": [
              "<IPython.core.display.Markdown object>"
            ]
          },
          "metadata": {
            "tags": []
          }
        },
        {
          "output_type": "stream",
          "text": [
            "Test set: Classification accuracy = 0.735000\n",
            "Test set: Balanced classification accuracy = 0.677421\n",
            "Test set: Disparate impact = 0.847700\n",
            "Test set: Equal opportunity difference = -0.037640\n",
            "Test set: Average odds difference = -0.074144\n",
            "Test set: Theil_index = 0.132249\n"
          ],
          "name": "stdout"
        }
      ]
    },
    {
      "cell_type": "markdown",
      "metadata": {
        "id": "R8wWlrNR0llF",
        "colab_type": "text"
      },
      "source": [
        "\n",
        "    References:\n",
        "    [1] B. H. Zhang, B. Lemoine, and M. Mitchell, \"Mitigating UnwantedBiases with Adversarial Learning,\" \n",
        "    AAAI/ACM Conference on Artificial Intelligence, Ethics, and Society, 2018."
      ]
    },
    {
      "cell_type": "code",
      "metadata": {
        "id": "UgPxmpoW0llG",
        "colab_type": "code",
        "colab": {}
      },
      "source": [
        ""
      ],
      "execution_count": 0,
      "outputs": []
    }
  ]
}